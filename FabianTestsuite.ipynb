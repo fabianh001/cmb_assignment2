{
 "cells": [
  {
   "cell_type": "markdown",
   "metadata": {},
   "source": [
    "### CMB Assigment 2 Program ###"
   ]
  },
  {
   "cell_type": "code",
   "execution_count": 1,
   "metadata": {},
   "outputs": [],
   "source": [
    "# Program, run imports\n",
    "%matplotlib inline\n",
    "import pandas as pd\n",
    "import matplotlib.pyplot as plt\n",
    "from datetime import datetime\n",
    "import numpy as np\n",
    "import seaborn as sns\n",
    "sns.set(style=\"darkgrid\")"
   ]
  },
  {
   "cell_type": "markdown",
   "metadata": {},
   "source": [
    "Create Pandas Dataframe"
   ]
  },
  {
   "cell_type": "code",
   "execution_count": 2,
   "metadata": {
    "pycharm": {
     "name": "#%%\n"
    }
   },
   "outputs": [
    {
     "data": {
      "text/html": [
       "<div>\n",
       "<style scoped>\n",
       "    .dataframe tbody tr th:only-of-type {\n",
       "        vertical-align: middle;\n",
       "    }\n",
       "\n",
       "    .dataframe tbody tr th {\n",
       "        vertical-align: top;\n",
       "    }\n",
       "\n",
       "    .dataframe thead th {\n",
       "        text-align: right;\n",
       "    }\n",
       "</style>\n",
       "<table border=\"1\" class=\"dataframe\">\n",
       "  <thead>\n",
       "    <tr style=\"text-align: right;\">\n",
       "      <th></th>\n",
       "      <th>No.</th>\n",
       "      <th>Time</th>\n",
       "      <th>Source</th>\n",
       "      <th>Destination</th>\n",
       "      <th>Protocol</th>\n",
       "      <th>Length</th>\n",
       "      <th>Info</th>\n",
       "    </tr>\n",
       "  </thead>\n",
       "  <tbody>\n",
       "    <tr>\n",
       "      <th>0</th>\n",
       "      <td>1</td>\n",
       "      <td>2022-01-04 16:44:06.405328</td>\n",
       "      <td>192.168.0.22</td>\n",
       "      <td>188.164.238.26</td>\n",
       "      <td>TCP</td>\n",
       "      <td>54</td>\n",
       "      <td>60967  &gt;  443 [FIN, ACK] Seq=1 Ack=1 Win=5744 ...</td>\n",
       "    </tr>\n",
       "    <tr>\n",
       "      <th>1</th>\n",
       "      <td>2</td>\n",
       "      <td>2022-01-04 16:44:06.418960</td>\n",
       "      <td>192.168.0.22</td>\n",
       "      <td>188.164.238.26</td>\n",
       "      <td>TCP</td>\n",
       "      <td>54</td>\n",
       "      <td>60967  &gt;  443 [ACK] Seq=2 Ack=2 Win=5743 Len=0</td>\n",
       "    </tr>\n",
       "    <tr>\n",
       "      <th>2</th>\n",
       "      <td>3</td>\n",
       "      <td>2022-01-04 16:44:14.010838</td>\n",
       "      <td>192.168.0.22</td>\n",
       "      <td>188.164.238.26</td>\n",
       "      <td>TCP</td>\n",
       "      <td>58</td>\n",
       "      <td>54623  &gt;  443 [SYN] Seq=0 Win=5744 Len=0 MSS=1436</td>\n",
       "    </tr>\n",
       "    <tr>\n",
       "      <th>3</th>\n",
       "      <td>4</td>\n",
       "      <td>2022-01-04 16:44:14.031386</td>\n",
       "      <td>192.168.0.22</td>\n",
       "      <td>188.164.238.26</td>\n",
       "      <td>TCP</td>\n",
       "      <td>54</td>\n",
       "      <td>54623  &gt;  443 [ACK] Seq=1 Ack=1 Win=5744 Len=0</td>\n",
       "    </tr>\n",
       "    <tr>\n",
       "      <th>4</th>\n",
       "      <td>5</td>\n",
       "      <td>2022-01-04 16:44:14.035643</td>\n",
       "      <td>192.168.0.22</td>\n",
       "      <td>188.164.238.26</td>\n",
       "      <td>TLSv1.2</td>\n",
       "      <td>353</td>\n",
       "      <td>Client Hello</td>\n",
       "    </tr>\n",
       "  </tbody>\n",
       "</table>\n",
       "</div>"
      ],
      "text/plain": [
       "   No.                        Time        Source     Destination Protocol  \\\n",
       "0    1  2022-01-04 16:44:06.405328  192.168.0.22  188.164.238.26      TCP   \n",
       "1    2  2022-01-04 16:44:06.418960  192.168.0.22  188.164.238.26      TCP   \n",
       "2    3  2022-01-04 16:44:14.010838  192.168.0.22  188.164.238.26      TCP   \n",
       "3    4  2022-01-04 16:44:14.031386  192.168.0.22  188.164.238.26      TCP   \n",
       "4    5  2022-01-04 16:44:14.035643  192.168.0.22  188.164.238.26  TLSv1.2   \n",
       "\n",
       "   Length                                               Info  \n",
       "0      54  60967  >  443 [FIN, ACK] Seq=1 Ack=1 Win=5744 ...  \n",
       "1      54     60967  >  443 [ACK] Seq=2 Ack=2 Win=5743 Len=0  \n",
       "2      58  54623  >  443 [SYN] Seq=0 Win=5744 Len=0 MSS=1436  \n",
       "3      54     54623  >  443 [ACK] Seq=1 Ack=1 Win=5744 Len=0  \n",
       "4     353                                       Client Hello  "
      ]
     },
     "execution_count": 2,
     "metadata": {},
     "output_type": "execute_result"
    }
   ],
   "source": [
    "df = pd.read_csv(\"/Users/Fabian/Desktop/test.csv\")\n",
    "#df = pd.read_csv(\"data/2022-01-04_complete.csv\")\n",
    "df.head()\n",
    "# ['No.', 'Time', 'Source', 'Destination', 'Protocol', 'Length', 'Info', 'dst port']\n"
   ]
  },
  {
   "cell_type": "code",
   "execution_count": 3,
   "metadata": {
    "pycharm": {
     "name": "#%%\n"
    }
   },
   "outputs": [
    {
     "data": {
      "text/plain": [
       "1641311046"
      ]
     },
     "execution_count": 3,
     "metadata": {},
     "output_type": "execute_result"
    }
   ],
   "source": [
    "# helper functions\n",
    "def utcEntryToTimestamp(entry):\n",
    "    row_entry = entry.split(\".\")[0]\n",
    "    TIME_FORMAT='%Y-%m-%d %H:%M:%S'\n",
    "    ts = int(datetime.strptime(row_entry, TIME_FORMAT).timestamp())\n",
    "    return ts\n",
    "\n",
    "def utcRowToTimestamp(row):\n",
    "    return utcEntryToTimestamp(row.at['Time'])\n",
    "utcRowToTimestamp(df.loc[0])\n",
    "# print(df.loc[0].at['Time'])"
   ]
  },
  {
   "cell_type": "markdown",
   "metadata": {},
   "source": [
    "### Protocol packet distribution ###"
   ]
  },
  {
   "cell_type": "code",
   "execution_count": 4,
   "metadata": {
    "pycharm": {
     "name": "#%%\n"
    }
   },
   "outputs": [
    {
     "name": "stdout",
     "output_type": "stream",
     "text": [
      "Protocol\n",
      "DNS            1385\n",
      "HTTP            482\n",
      "HTTP/JSON       580\n",
      "TCP          172660\n",
      "TLSv1             8\n",
      "TLSv1.2       51693\n",
      "Name: Source, dtype: int64\n"
     ]
    },
    {
     "name": "stderr",
     "output_type": "stream",
     "text": [
      "/var/folders/px/zjht8g6j4bvglsnf70rp41d80000gn/T/ipykernel_83628/1175584780.py:7: UserWarning: Matplotlib is currently using module://matplotlib_inline.backend_inline, which is a non-GUI backend, so cannot show the figure.\n",
      "  fig.show()\n"
     ]
    },
    {
     "data": {
      "image/png": "[encoded data removed]",
      "text/plain": [
       "<Figure size 432x288 with 1 Axes>"
      ]
     },
     "metadata": {},
     "output_type": "display_data"
    }
   ],
   "source": [
    "print(df.groupby('Protocol').Source.count())\n",
    "\n",
    "count_protocol_packets = df.groupby('Protocol').Source.count()\n",
    "\n",
    "fig, ax = plt.subplots()\n",
    "ax.pie(count_protocol_packets, labels=count_protocol_packets.keys(), autopct='%1.1f%%',)\n",
    "fig.show()"
   ]
  },
  {
   "cell_type": "markdown",
   "metadata": {},
   "source": [
    "### Amount of data traffic per protocol ###"
   ]
  },
  {
   "cell_type": "code",
   "execution_count": 5,
   "metadata": {
    "pycharm": {
     "name": "#%%\n"
    }
   },
   "outputs": [
    {
     "name": "stdout",
     "output_type": "stream",
     "text": [
      "Protocol\n",
      "DNS            132349\n",
      "HTTP           103953\n",
      "HTTP/JSON      280055\n",
      "TCP           9583876\n",
      "TLSv1            1592\n",
      "TLSv1.2      10109785\n",
      "Name: Length, dtype: int64\n"
     ]
    },
    {
     "name": "stderr",
     "output_type": "stream",
     "text": [
      "/var/folders/px/zjht8g6j4bvglsnf70rp41d80000gn/T/ipykernel_83628/819471806.py:5: UserWarning: Matplotlib is currently using module://matplotlib_inline.backend_inline, which is a non-GUI backend, so cannot show the figure.\n",
      "  fig.show()\n"
     ]
    },
    {
     "data": {
      "image/png": "[encoded data removed]",
      "text/plain": [
       "<Figure size 432x288 with 1 Axes>"
      ]
     },
     "metadata": {},
     "output_type": "display_data"
    }
   ],
   "source": [
    "count_protocol_traffic = df.groupby('Protocol').Length.sum()\n",
    "print(count_protocol_traffic)\n",
    "fig, ax = plt.subplots()\n",
    "ax.pie(count_protocol_traffic, labels=count_protocol_traffic.keys(), autopct='%1.1f%%',)\n",
    "fig.show()"
   ]
  },
  {
   "cell_type": "markdown",
   "metadata": {},
   "source": [
    "### Average Data length per packet ###"
   ]
  },
  {
   "cell_type": "code",
   "execution_count": 6,
   "metadata": {
    "pycharm": {
     "name": "#%%\n"
    }
   },
   "outputs": [
    {
     "name": "stderr",
     "output_type": "stream",
     "text": [
      "/var/folders/px/zjht8g6j4bvglsnf70rp41d80000gn/T/ipykernel_83628/1773694957.py:5: UserWarning: Matplotlib is currently using module://matplotlib_inline.backend_inline, which is a non-GUI backend, so cannot show the figure.\n",
      "  fig.show()\n"
     ]
    },
    {
     "name": "stdout",
     "output_type": "stream",
     "text": [
      "Protocol\n",
      "DNS           95.558845\n",
      "HTTP         215.670124\n",
      "HTTP/JSON    482.853448\n",
      "TCP           55.507216\n",
      "TLSv1        199.000000\n",
      "TLSv1.2      195.573579\n",
      "Name: Length, dtype: float64\n"
     ]
    },
    {
     "data": {
      "image/png": "[encoded data removed]",
      "text/plain": [
       "<Figure size 432x288 with 1 Axes>"
      ]
     },
     "metadata": {},
     "output_type": "display_data"
    }
   ],
   "source": [
    "average_protocol_packet_length = df.groupby('Protocol').Length.sum() / df.groupby('Protocol').Length.count()\n",
    "print(average_protocol_packet_length)\n",
    "fig, ax = plt.subplots()\n",
    "ax.bar(average_protocol_packet_length.keys(), average_protocol_packet_length)\n",
    "fig.show()"
   ]
  },
  {
   "cell_type": "markdown",
   "metadata": {},
   "source": [
    "### Source addresses ###"
   ]
  },
  {
   "cell_type": "code",
   "execution_count": 7,
   "metadata": {
    "pycharm": {
     "name": "#%%\n"
    }
   },
   "outputs": [
    {
     "name": "stdout",
     "output_type": "stream",
     "text": [
      "Source\n",
      "192.168.0.1         682\n",
      "192.168.0.121     25202\n",
      "192.168.0.2          28\n",
      "192.168.0.200      2891\n",
      "192.168.0.22     196379\n",
      "192.168.0.88         54\n",
      "192.168.0.9        1572\n",
      "Name: Time, dtype: int64\n",
      "Destination\n",
      "104.121.176.87        26\n",
      "188.164.238.26    196352\n",
      "192.168.0.1          703\n",
      "192.168.0.121       3461\n",
      "192.168.0.2           25\n",
      "192.168.0.22          25\n",
      "192.168.0.88          54\n",
      "192.168.0.9            8\n",
      "34.245.145.101      1457\n",
      "34.250.121.83         22\n",
      "52.209.43.253         12\n",
      "54.216.189.126        12\n",
      "54.220.43.22          12\n",
      "81.169.180.11       8788\n",
      "81.169.210.193        13\n",
      "85.214.202.106      9014\n",
      "85.214.250.60       3198\n",
      "85.214.67.97        3603\n",
      "88.221.139.67          8\n",
      "92.122.24.124         15\n",
      "Name: Time, dtype: int64\n"
     ]
    }
   ],
   "source": [
    "print(df.groupby('Source').Time.count())\n",
    "print(df.groupby('Destination').Time.count())"
   ]
  },
  {
   "cell_type": "markdown",
   "metadata": {},
   "source": [
    "### DNS requests ###"
   ]
  },
  {
   "cell_type": "code",
   "execution_count": 8,
   "metadata": {
    "pycharm": {
     "name": "#%%\n"
    }
   },
   "outputs": [
    {
     "name": "stdout",
     "output_type": "stream",
     "text": [
      "server.chillibits.com               528\n",
      "pool.ntp.org                         54\n",
      "0.debian.pool.ntp.org                54\n",
      "0.pool.ntp.org                       24\n",
      "api.sensor.community                 17\n",
      "api-rrd.madavi.de                    15\n",
      "msmetrics.ws.sonos.com                3\n",
      "firmware.sensor.community             2\n",
      "update-timezone.sonos.com             1\n",
      "service-catalog.ws.sonos.com          1\n",
      "update.sonos.com                      1\n",
      "update-firmware.sonos.com             1\n",
      "www.mvg.de                            1\n",
      "feature-config.sslauth.sonos.com      1\n",
      "Name: Info, dtype: int64\n"
     ]
    }
   ],
   "source": [
    "df_dns = df[df['Protocol'].isin(['DNS'])]\n",
    "df_dns.head()\n",
    "df_dns_requests_1 = df_dns[df_dns['Info'].str.contains('Standard query')]\n",
    "# does not contain response\n",
    "df_dns_requests_2 = df_dns_requests_1[~df_dns_requests_1['Info'].str.contains('response')]\n",
    "df_dns_resources = df_dns_requests_2['Info'].apply(lambda x: x.split(' ')[-1]).value_counts()\n",
    "print(df_dns_resources)\n",
    "# print(df_dns_requests)\n",
    "# print(df_dns['Info'])\n"
   ]
  },
  {
   "cell_type": "markdown",
   "metadata": {},
   "source": [
    "### Data traffic over time ###"
   ]
  },
  {
   "cell_type": "code",
   "execution_count": 9,
   "metadata": {
    "pycharm": {
     "name": "#%%\n"
    }
   },
   "outputs": [
    {
     "name": "stdout",
     "output_type": "stream",
     "text": [
      "2022-01-04 15:30:00\n",
      "[ 119. 2362. 2383. 2385. 2373. 2380. 2396. 2421. 2397. 2360. 2397. 2360.\n",
      " 2340. 2378. 2397. 2378. 2365. 2368. 2378. 2431. 2385. 2349. 2373. 2393.\n",
      " 2393. 2356. 2357. 2348. 2358. 2309. 2298. 2291. 2317. 2315. 2305. 2308.\n",
      " 2333. 2299. 2298. 2353. 2316. 2306. 2388. 2373. 2352. 2361. 2372. 2354.\n",
      " 2367. 2351. 2342. 2362. 2356. 2355. 2347. 2382. 2370. 2344. 2357. 2376.\n",
      " 2326. 2376. 2364. 2363. 2371. 2413. 2348. 2362. 2320. 2414. 2382. 2358.\n",
      " 2329. 2377. 2367. 2367. 2342. 2350. 2407. 2393. 2326. 2381. 2398. 2384.\n",
      " 2338. 2391. 2391. 2393. 2394. 2385. 2393. 2359. 2357. 2371. 2384. 2425.\n",
      " 2172.]\n",
      "[  9. 209. 210. 214. 210. 211. 212. 217. 212. 210. 212. 209. 207. 211.\n",
      " 212. 211. 210. 210. 210. 217. 213. 209. 211. 211. 211. 210. 209. 209.\n",
      " 214. 207. 206. 206. 207. 207. 206. 207. 210. 208. 207. 213. 207. 206.\n",
      " 211. 210. 209. 210. 212. 211. 210. 210. 208. 209. 210. 209. 209. 213.\n",
      " 212. 209. 210. 210. 208. 211. 210. 210. 210. 216. 209. 211. 206. 216.\n",
      " 210. 210. 204. 211. 211. 210. 209. 208. 211. 211. 202. 213. 214. 212.\n",
      " 204. 211. 212. 212. 212. 211. 212. 209. 209. 211. 210. 217. 192.]\n"
     ]
    },
    {
     "name": "stderr",
     "output_type": "stream",
     "text": [
      "/var/folders/px/zjht8g6j4bvglsnf70rp41d80000gn/T/ipykernel_83628/250705815.py:43: UserWarning: Matplotlib is currently using module://matplotlib_inline.backend_inline, which is a non-GUI backend, so cannot show the figure.\n",
      "  fig.show()\n",
      "/var/folders/px/zjht8g6j4bvglsnf70rp41d80000gn/T/ipykernel_83628/250705815.py:51: UserWarning: Matplotlib is currently using module://matplotlib_inline.backend_inline, which is a non-GUI backend, so cannot show the figure.\n",
      "  fig.show()\n"
     ]
    },
    {
     "data": {
      "image/png": "[encoded data removed]",
      "text/plain": [
       "<Figure size 432x288 with 1 Axes>"
      ]
     },
     "metadata": {},
     "output_type": "display_data"
    },
    {
     "data": {
      "image/png": "[encoded data removed]",
      "text/plain": [
       "<Figure size 432x288 with 1 Axes>"
      ]
     },
     "metadata": {},
     "output_type": "display_data"
    }
   ],
   "source": [
    "def timeMapping(x):\n",
    "    # include time difference UTC+1\n",
    "    time = datetime.utcfromtimestamp(x*min_15_duration + 3600)\n",
    "    if time.minute == 0 and time.hour % 3 == 0:\n",
    "        return time.strftime(\"%H:%M\")\n",
    "    else:\n",
    "        return \"\"\n",
    "\n",
    "# find first and last timestamp, then create data structure\n",
    "min_15_duration = 60 * 15\n",
    "df_time_mod = df.copy()\n",
    "df_time_mod['Time'] = df_time_mod['Time'].apply(lambda x: utcEntryToTimestamp(x)) # map to 15 min window\n",
    "df_time_mod.head()\n",
    "first_entry = df_time_mod.loc[0].at['Time'] // min_15_duration\n",
    "last_entry = df_time_mod.iloc[-1].at['Time'] // min_15_duration\n",
    "\n",
    "\n",
    "offset = first_entry\n",
    "count_packets = np.zeros(last_entry - first_entry + 1)\n",
    "length_packets = np.zeros(last_entry - first_entry + 1)\n",
    "print(datetime.utcfromtimestamp(offset * min_15_duration))\n",
    "x_values_packets = list(range(offset, last_entry + 1))\n",
    "\n",
    "mapping_res = list(map(timeMapping, x_values_packets))\n",
    "\n",
    "# print(mapping_res)\n",
    "\n",
    "for index, row in df_time_mod.iterrows():\n",
    "    ts = row.at['Time'] // min_15_duration\n",
    "    count_packets[ts - offset] += 1\n",
    "    length_packets[ts - offset] += row.at['Length']\n",
    "\n",
    "length_packets = length_packets // 1000\n",
    "print(count_packets)\n",
    "print(length_packets)\n",
    "\n",
    "fig, ax = plt.subplots()\n",
    "plt.xlabel('Time')\n",
    "plt.ylabel('Packets')\n",
    "plt.title('Packets per timeframe (15 min interval)')\n",
    "plt.xticks(x_values_packets, mapping_res)\n",
    "ax.bar(x_values_packets, count_packets, color='black')\n",
    "fig.show()\n",
    "\n",
    "fig, ax = plt.subplots()\n",
    "plt.xlabel('Time')\n",
    "plt.ylabel('Data [kB]')\n",
    "plt.title('Data traffic per timeframe (15 min interval)')\n",
    "plt.xticks(x_values_packets, mapping_res)\n",
    "ax.bar(x_values_packets, length_packets, color='black')\n",
    "fig.show()"
   ]
  },
  {
   "cell_type": "code",
   "execution_count": null,
   "metadata": {
    "pycharm": {
     "name": "#%%\n"
    }
   },
   "outputs": [],
   "source": []
  }
 ],
 "metadata": {
  "kernelspec": {
   "display_name": "Python 3 (ipykernel)",
   "language": "python",
   "name": "python3"
  },
  "language_info": {
   "codemirror_mode": {
    "name": "ipython",
    "version": 3
   },
   "file_extension": ".py",
   "mimetype": "text/x-python",
   "name": "python",
   "nbconvert_exporter": "python",
   "pygments_lexer": "ipython3",
   "version": "3.10.1"
  }
 },
 "nbformat": 4,
 "nbformat_minor": 1
}
