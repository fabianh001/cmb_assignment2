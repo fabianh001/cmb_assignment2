{
 "cells": [
  {
   "cell_type": "markdown",
   "metadata": {},
   "source": [
    "### CMB Assigment 2 Program ###"
   ]
  },
  {
   "cell_type": "code",
   "execution_count": 1,
   "metadata": {},
   "outputs": [],
   "source": [
    "# Program, run imports\n",
    "%matplotlib inline\n",
    "import pandas as pd\n",
    "import matplotlib.pyplot as plt\n",
    "from datetime import datetime\n",
    "import numpy as np\n",
    "import seaborn as sns\n",
    "import requests\n",
    "sns.set(style=\"darkgrid\")"
   ]
  },
  {
   "cell_type": "markdown",
   "metadata": {},
   "source": [
    "Create Pandas Dataframe"
   ]
  },
  {
   "cell_type": "code",
   "execution_count": 2,
   "metadata": {
    "pycharm": {
     "name": "#%%\n"
    }
   },
   "outputs": [
    {
     "name": "stdout",
     "output_type": "stream",
     "text": [
      "               No.                        Time  \\\n",
      "0                1  2022-01-16 14:02:23.352614   \n",
      "1                2  2022-01-16 14:02:23.357937   \n",
      "2                3  2022-01-16 14:02:23.388606   \n",
      "3                4  2022-01-16 14:02:23.396945   \n",
      "4                5  2022-01-16 14:02:23.414266   \n",
      "...            ...                         ...   \n",
      "10322383  10322384  2022-01-17 14:02:22.229144   \n",
      "10322384  10322385  2022-01-17 14:02:22.229290   \n",
      "10322385  10322386  2022-01-17 14:02:22.229441   \n",
      "10322386  10322387  2022-01-17 14:02:22.239232   \n",
      "10322387  10322388  2022-01-17 14:02:22.239344   \n",
      "\n",
      "                                         Source  \\\n",
      "0                                192.168.178.27   \n",
      "1                                192.168.178.26   \n",
      "2                                192.168.178.24   \n",
      "3                                192.168.178.26   \n",
      "4                             Raspberr_bc:1b:41   \n",
      "...                                         ...   \n",
      "10322383  2003:c1:3720:f300:e4ba:9189:6edd:d423   \n",
      "10322384  2003:c1:3720:f300:e4ba:9189:6edd:d423   \n",
      "10322385  2003:c1:3720:f300:e4ba:9189:6edd:d423   \n",
      "10322386               2a00:1450:4016:808::2001   \n",
      "10322387               2a00:1450:4016:808::2001   \n",
      "\n",
      "                                    Destination      Protocol  Length  \\\n",
      "0                                192.168.178.26  CLASSIC-STUN      62   \n",
      "1                                192.168.178.27  CLASSIC-STUN      62   \n",
      "2                                192.168.178.26  CLASSIC-STUN      62   \n",
      "3                                192.168.178.24  CLASSIC-STUN      62   \n",
      "4                                     Broadcast           ARP      42   \n",
      "...                                         ...           ...     ...   \n",
      "10322383               2a00:1450:4016:808::2001          QUIC      95   \n",
      "10322384               2a00:1450:4016:808::2001          QUIC      95   \n",
      "10322385               2a00:1450:4016:808::2001          QUIC      95   \n",
      "10322386  2003:c1:3720:f300:e4ba:9189:6edd:d423          QUIC    1392   \n",
      "10322387  2003:c1:3720:f300:e4ba:9189:6edd:d423          QUIC    1392   \n",
      "\n",
      "                                                    Info     Port  \n",
      "0                               Message: Binding Request  52563.0  \n",
      "1                         Message: Shared Secret Request  10006.0  \n",
      "2                               Message: Binding Request  34624.0  \n",
      "3                         Message: Shared Secret Request  10006.0  \n",
      "4             Who has 192.168.178.1? Tell 192.168.178.71      NaN  \n",
      "...                                                  ...      ...  \n",
      "10322383  Protected Payload (KP0), DCID=5655e7c459502ed2  46412.0  \n",
      "10322384  Protected Payload (KP0), DCID=5655e7c459502ed2  46412.0  \n",
      "10322385  Protected Payload (KP0), DCID=5655e7c459502ed2  46412.0  \n",
      "10322386                         Protected Payload (KP0)    443.0  \n",
      "10322387                         Protected Payload (KP0)    443.0  \n",
      "\n",
      "[10322388 rows x 8 columns]\n"
     ]
    }
   ],
   "source": [
    "#df = pd.read_csv(\"data/21-12-23_complete.csv\")\n",
    "# data_folder = \"/Users/Fabian/Desktop/\"\n",
    "data_folder = \"../raspberry/dumps/\"\n",
    "df = pd.read_csv(data_folder + \"dump-16.01.csv\", encoding = \"latin\")\n",
    "print(df)\n",
    "# ['No.', 'Time', 'Source', 'Destination', 'Protocol', 'Length', 'Info', 'dst port']\n"
   ]
  },
  {
   "cell_type": "markdown",
   "metadata": {},
   "source": [
    "Filter local traffic"
   ]
  },
  {
   "cell_type": "code",
   "execution_count": 5,
   "metadata": {},
   "outputs": [
    {
     "name": "stdout",
     "output_type": "stream",
     "text": [
      "               No.                        Time          Source  \\\n",
      "110            111  2022-01-16 14:02:28.211293   192.168.178.1   \n",
      "113            114  2022-01-16 14:02:28.212313   192.168.178.1   \n",
      "115            116  2022-01-16 14:02:28.212922   192.168.178.1   \n",
      "118            119  2022-01-16 14:02:28.213851   192.168.178.1   \n",
      "121            122  2022-01-16 14:02:28.214768   192.168.178.1   \n",
      "...            ...                         ...             ...   \n",
      "10322156  10322157  2022-01-17 14:02:21.985711  192.168.178.26   \n",
      "10322157  10322158  2022-01-17 14:02:21.997046         8.8.8.8   \n",
      "10322158  10322159  2022-01-17 14:02:22.002161         8.8.8.8   \n",
      "10322203  10322204  2022-01-17 14:02:22.084553  157.240.223.61   \n",
      "10322354  10322355  2022-01-17 14:02:22.193210  157.240.223.61   \n",
      "\n",
      "             Destination Protocol  Length  \\\n",
      "110          224.0.0.251     MDNS      75   \n",
      "113          224.0.0.251     MDNS      96   \n",
      "115          224.0.0.251     MDNS      70   \n",
      "118          224.0.0.251     MDNS      96   \n",
      "121          224.0.0.251     MDNS      96   \n",
      "...                  ...      ...     ...   \n",
      "10322156         8.8.8.8      DNS      88   \n",
      "10322157  192.168.178.26      DNS     133   \n",
      "10322158  192.168.178.26      DNS     145   \n",
      "10322203  192.168.178.44      SSL     222   \n",
      "10322354  192.168.178.44      TCP     222   \n",
      "\n",
      "                                                       Info     Port  \n",
      "110       Standard query 0xb583 ANY iPhone-von-Sven, \"QM...   5353.0  \n",
      "113       Standard query 0xb9ae ANY 9ae21171-184d-7437-f...   5353.0  \n",
      "115       Standard query 0x3c56 ANY Svens-iPad, \"QM\" que...   5353.0  \n",
      "118       Standard query 0xe06d ANY cd16206e-3820-216f-3...   5353.0  \n",
      "121       Standard query 0xdcfb ANY e03dd480-b1bf-79c4-4...   5353.0  \n",
      "...                                                     ...      ...  \n",
      "10322156  Standard query 0xed9e AAAA ccp-lh.googleuserco...  33007.0  \n",
      "10322157  Standard query response 0xe89e A ccp-lh.google...     53.0  \n",
      "10322158  Standard query response 0xed9e AAAA ccp-lh.goo...     53.0  \n",
      "10322203                                  Continuation Data    443.0  \n",
      "10322354  [TCP Retransmission] 443  >  40360 [PSH, ACK] ...    443.0  \n",
      "\n",
      "[3497718 rows x 8 columns]\n"
     ]
    }
   ],
   "source": [
    "# source and destination should not start with 192.168 to filter local network\n",
    "filtered = df.loc[~df['Source'].str.startswith(\"192.168\", na=False) & df['Destination'].str.startswith(\"192.168\", na=False) |\n",
    "                 df['Source'].str.startswith(\"192.168\", na=False) & ~df['Destination'].str.startswith(\"192.168\", na=False)]\n",
    "df = filtered.copy()\n",
    "print(df)"
   ]
  },
  {
   "cell_type": "code",
   "execution_count": 6,
   "metadata": {
    "pycharm": {
     "name": "#%%\n"
    }
   },
   "outputs": [
    {
     "data": {
      "text/plain": [
       "1642338148"
      ]
     },
     "execution_count": 6,
     "metadata": {},
     "output_type": "execute_result"
    }
   ],
   "source": [
    "# helper functions\n",
    "def utcEntryToTimestamp(entry):\n",
    "    if '.' in entry:\n",
    "        row_entry = entry.split(\".\")[0]\n",
    "    else:\n",
    "        row_entry = entry.split(\",\")[0]\n",
    "    TIME_FORMAT='%Y-%m-%d %H:%M:%S'\n",
    "    ts = int(datetime.strptime(row_entry, TIME_FORMAT).timestamp())\n",
    "    return ts\n",
    "\n",
    "def utcRowToTimestamp(row):\n",
    "    return utcEntryToTimestamp(row.at['Time'])\n",
    "utcRowToTimestamp(df.iloc[0])\n",
    "# print(df.loc[0].at['Time'])"
   ]
  },
  {
   "cell_type": "markdown",
   "metadata": {},
   "source": [
    "### Protocol packet distribution ###"
   ]
  },
  {
   "cell_type": "code",
   "execution_count": 7,
   "metadata": {
    "pycharm": {
     "name": "#%%\n"
    }
   },
   "outputs": [
    {
     "name": "stdout",
     "output_type": "stream",
     "text": [
      "Protocol\n",
      "CLASSIC-STUN                  18\n",
      "DNS                        22089\n",
      "ESP                          616\n",
      "HTTP                       10664\n",
      "HTTP/JSON                   1288\n",
      "HTTP/JSON/XML                  1\n",
      "HTTP/XML                      33\n",
      "ICMP                       10932\n",
      "IGMPv2                      1288\n",
      "IGMPv3                      7008\n",
      "ISAKMP                      2566\n",
      "MDNS                       53355\n",
      "MP4                          749\n",
      "MPTCP                       2464\n",
      "NTP                         1400\n",
      "OCSP                          17\n",
      "QUIC                        9374\n",
      "SSDP                        7489\n",
      "SSH                            2\n",
      "SSHv2                        201\n",
      "SSL                          145\n",
      "SSLv2                         26\n",
      "SSLv3                          7\n",
      "STUN                           7\n",
      "TCP                      1624184\n",
      "TLSv1                      27662\n",
      "TLSv1.2                   121864\n",
      "TLSv1.3                    78048\n",
      "TPLINK-SMARTHOME/JSON       1438\n",
      "UDP                      1507133\n",
      "UDPENCAP                    2847\n",
      "WireGuard                   2800\n",
      "XMPP/XML                       3\n",
      "Name: Source, dtype: int64\n"
     ]
    },
    {
     "name": "stderr",
     "output_type": "stream",
     "text": [
      "/var/folders/t7/_0df6qfn3ndgslssbqchdtnr0000gn/T/ipykernel_2798/1857181538.py:8: UserWarning: Matplotlib is currently using module://matplotlib_inline.backend_inline, which is a non-GUI backend, so cannot show the figure.\n",
      "  fig.show()\n"
     ]
    },
    {
     "data": {
      "image/png": "[encoded data removed]",
      "text/plain": [
       "<Figure size 432x288 with 1 Axes>"
      ]
     },
     "metadata": {},
     "output_type": "display_data"
    }
   ],
   "source": [
    "print(df.groupby('Protocol').Source.count())\n",
    "\n",
    "count_protocol_packets = df.groupby('Protocol').Source.count()\n",
    "\n",
    "fig, ax = plt.subplots()\n",
    "plt.title('Protocol Distribution by Amount of Packets')\n",
    "ax.pie(count_protocol_packets, labels=count_protocol_packets.keys(), autopct='%1.1f%%',)\n",
    "fig.show()"
   ]
  },
  {
   "cell_type": "markdown",
   "metadata": {},
   "source": [
    "### Amount of data traffic per protocol ###"
   ]
  },
  {
   "cell_type": "code",
   "execution_count": 8,
   "metadata": {
    "pycharm": {
     "name": "#%%\n"
    }
   },
   "outputs": [
    {
     "name": "stdout",
     "output_type": "stream",
     "text": [
      "Protocol\n",
      "CLASSIC-STUN                   1440\n",
      "DNS                         2192969\n",
      "ESP                          244560\n",
      "HTTP                       13948977\n",
      "HTTP/JSON                    833868\n",
      "HTTP/JSON/XML                   592\n",
      "HTTP/XML                      22724\n",
      "ICMP                        1419630\n",
      "IGMPv2                        59304\n",
      "IGMPv3                       447520\n",
      "ISAKMP                       339549\n",
      "MDNS                       16616037\n",
      "MP4                          511973\n",
      "MPTCP                        385343\n",
      "NTP                          126000\n",
      "OCSP                          13995\n",
      "QUIC                        7336067\n",
      "SSDP                        2910032\n",
      "SSH                            1732\n",
      "SSHv2                        275212\n",
      "SSL                           60975\n",
      "SSLv2                         32051\n",
      "SSLv3                          2466\n",
      "STUN                            854\n",
      "TCP                      1415411155\n",
      "TLSv1                      23482554\n",
      "TLSv1.2                    55222316\n",
      "TLSv1.3                    52638809\n",
      "TPLINK-SMARTHOME/JSON        102098\n",
      "UDP                       591181062\n",
      "UDPENCAP                     122421\n",
      "WireGuard                    344400\n",
      "XMPP/XML                        548\n",
      "Name: Length, dtype: int64\n"
     ]
    },
    {
     "name": "stderr",
     "output_type": "stream",
     "text": [
      "/var/folders/t7/_0df6qfn3ndgslssbqchdtnr0000gn/T/ipykernel_2798/3895533642.py:6: UserWarning: Matplotlib is currently using module://matplotlib_inline.backend_inline, which is a non-GUI backend, so cannot show the figure.\n",
      "  fig.show()\n"
     ]
    },
    {
     "data": {
      "image/png": "[encoded data removed]",
      "text/plain": [
       "<Figure size 432x288 with 1 Axes>"
      ]
     },
     "metadata": {},
     "output_type": "display_data"
    }
   ],
   "source": [
    "count_protocol_traffic = df.groupby('Protocol').Length.sum()\n",
    "print(count_protocol_traffic)\n",
    "fig, ax = plt.subplots()\n",
    "plt.title('Protocol Distribution by Data Traffic')\n",
    "ax.pie(count_protocol_traffic, labels=count_protocol_traffic.keys(), autopct='%1.1f%%',)\n",
    "fig.show()"
   ]
  },
  {
   "cell_type": "markdown",
   "metadata": {},
   "source": [
    "### Average Data length per Protocol Type ###"
   ]
  },
  {
   "cell_type": "code",
   "execution_count": 9,
   "metadata": {
    "pycharm": {
     "name": "#%%\n"
    }
   },
   "outputs": [
    {
     "name": "stdout",
     "output_type": "stream",
     "text": [
      "Protocol\n",
      "CLASSIC-STUN               80.000000\n",
      "DNS                        99.278781\n",
      "ESP                       397.012987\n",
      "HTTP                     1308.043605\n",
      "HTTP/JSON                 647.413043\n",
      "HTTP/JSON/XML             592.000000\n",
      "HTTP/XML                  688.606061\n",
      "ICMP                      129.860044\n",
      "IGMPv2                     46.043478\n",
      "IGMPv3                     63.858447\n",
      "ISAKMP                    132.326189\n",
      "MDNS                      311.424178\n",
      "MP4                       683.542056\n",
      "MPTCP                     156.389205\n",
      "NTP                        90.000000\n",
      "OCSP                      823.235294\n",
      "QUIC                      782.597290\n",
      "SSDP                      388.574175\n",
      "SSH                       866.000000\n",
      "SSHv2                    1369.213930\n",
      "SSL                       420.517241\n",
      "SSLv2                    1232.730769\n",
      "SSLv3                     352.285714\n",
      "STUN                      122.000000\n",
      "TCP                       871.459856\n",
      "TLSv1                     848.910202\n",
      "TLSv1.2                   453.147082\n",
      "TLSv1.3                   674.441485\n",
      "TPLINK-SMARTHOME/JSON      71.000000\n",
      "UDP                       392.255403\n",
      "UDPENCAP                   43.000000\n",
      "WireGuard                 123.000000\n",
      "XMPP/XML                  182.666667\n",
      "Name: Length, dtype: float64\n"
     ]
    },
    {
     "name": "stderr",
     "output_type": "stream",
     "text": [
      "/var/folders/t7/_0df6qfn3ndgslssbqchdtnr0000gn/T/ipykernel_2798/212732153.py:11: UserWarning: Matplotlib is currently using module://matplotlib_inline.backend_inline, which is a non-GUI backend, so cannot show the figure.\n",
      "  fig.show()\n"
     ]
    },
    {
     "data": {
      "image/png": "[encoded data removed]",
      "text/plain": [
       "<Figure size 432x288 with 1 Axes>"
      ]
     },
     "metadata": {},
     "output_type": "display_data"
    }
   ],
   "source": [
    "average_protocol_packet_length = df.groupby('Protocol').Length.sum() / df.groupby('Protocol').Length.count()\n",
    "print(average_protocol_packet_length)\n",
    "fig, ax = plt.subplots()\n",
    "ax.tick_params(axis='x', which='major', labelsize=12)\n",
    "ax.tick_params(axis='x', which='minor', labelsize=12)\n",
    "plt.xlabel('Protocol')\n",
    "plt.ylabel('Data [Byte]')\n",
    "plt.title('Average Data Length per Protocol Type')\n",
    "ax.bar(average_protocol_packet_length.keys(), average_protocol_packet_length, align='center',)\n",
    "plt.xticks(rotation=60, ha=\"right\")\n",
    "fig.show()"
   ]
  },
  {
   "cell_type": "markdown",
   "metadata": {},
   "source": [
    "### Source addresses ###"
   ]
  },
  {
   "cell_type": "code",
   "execution_count": 10,
   "metadata": {
    "pycharm": {
     "name": "#%%\n"
    }
   },
   "outputs": [
    {
     "name": "stdout",
     "output_type": "stream",
     "text": [
      "Source\n",
      "100.20.184.94        6\n",
      "100.24.140.84       25\n",
      "100.25.95.121       41\n",
      "100.26.12.76         9\n",
      "102.132.100.39      12\n",
      "                  ... \n",
      "99.84.85.26       3079\n",
      "99.84.91.123         2\n",
      "99.84.94.11         18\n",
      "99.84.94.95        167\n",
      "99.86.154.46        14\n",
      "Name: Time, Length: 1675, dtype: int64\n",
      "Destination\n",
      "17.253.55.201           1\n",
      "172.66.43.69            1\n",
      "17.171.98.2             1\n",
      "51.77.65.171            1\n",
      "3.64.117.201            1\n",
      "                   ...   \n",
      "192.168.178.62     155388\n",
      "192.168.178.44     198789\n",
      "134.224.101.38     248261\n",
      "192.168.178.26     663010\n",
      "192.168.178.60    1324635\n",
      "Name: Time, Length: 1678, dtype: int64\n"
     ]
    }
   ],
   "source": [
    "print(df.groupby('Source').Time.count())\n",
    "print(df.groupby('Destination').Time.count().sort_values())\n",
    "\n",
    "unique_dests = df['Destination'].unique()\n",
    "\n",
    "# write ip address destinations to file\n",
    "file1 = open(\"Testfile.txt\",\"w\")\n",
    "for row in unique_dests:\n",
    "    file1.write(row + \"\\n\")\n",
    "file1.close()"
   ]
  },
  {
   "cell_type": "code",
   "execution_count": 11,
   "metadata": {
    "pycharm": {
     "name": "#%%\n"
    }
   },
   "outputs": [
    {
     "name": "stdout",
     "output_type": "stream",
     "text": [
      "Source\n",
      "100.20.184.94        6\n",
      "100.24.140.84       25\n",
      "100.25.95.121       41\n",
      "100.26.12.76         9\n",
      "102.132.100.39      12\n",
      "                  ... \n",
      "99.84.85.26       3079\n",
      "99.84.91.123         2\n",
      "99.84.94.11         18\n",
      "99.84.94.95        167\n",
      "99.86.154.46        14\n",
      "Name: Time, Length: 1675, dtype: int64\n",
      "Destination\n",
      "17.253.55.201           1\n",
      "172.66.43.69            1\n",
      "17.171.98.2             1\n",
      "51.77.65.171            1\n",
      "3.64.117.201            1\n",
      "                   ...   \n",
      "192.168.178.62     155388\n",
      "192.168.178.44     198789\n",
      "134.224.101.38     248261\n",
      "192.168.178.26     663010\n",
      "192.168.178.60    1324635\n",
      "Name: Time, Length: 1678, dtype: int64\n"
     ]
    }
   ],
   "source": [
    "print(df.groupby('Source').Time.count())\n",
    "print(df.groupby('Destination').Time.count().sort_values())"
   ]
  },
  {
   "cell_type": "markdown",
   "metadata": {},
   "source": [
    "### DNS requests ###"
   ]
  },
  {
   "cell_type": "code",
   "execution_count": 12,
   "metadata": {
    "pycharm": {
     "name": "#%%\n"
    }
   },
   "outputs": [
    {
     "name": "stdout",
     "output_type": "stream",
     "text": [
      "www.google.com                     5063\n",
      "ccp-lh.googleusercontent.com       2704\n",
      "clients3.google.com                 488\n",
      "time.google.com                     354\n",
      "play.googleapis.com                 221\n",
      "                                   ... \n",
      "doh.dns.apple.com.v.aaplimg.com       1\n",
      "d145e4fdyl6drh.cloudfront.net         1\n",
      "calendars.fe.apple-dns.net            1\n",
      "app.slack.com                         1\n",
      "e4805.dsca.akamaiedge.net             1\n",
      "Name: Info, Length: 159, dtype: int64\n"
     ]
    }
   ],
   "source": [
    "df_dns = df[df['Protocol'].isin(['DNS'])]\n",
    "df_dns.head()\n",
    "df_dns_requests_1 = df_dns[df_dns['Info'].str.contains('Standard query')]\n",
    "# does not contain response\n",
    "df_dns_requests_2 = df_dns_requests_1[~df_dns_requests_1['Info'].str.contains('response')]\n",
    "df_dns_resources = df_dns_requests_2['Info'].apply(lambda x: x.split(' ')[-1]).value_counts()\n",
    "print(df_dns_resources)\n",
    "# print(df_dns_requests)\n",
    "# print(df_dns['Info'])\n"
   ]
  },
  {
   "cell_type": "markdown",
   "metadata": {},
   "source": [
    "### IP Wordlwide location"
   ]
  },
  {
   "cell_type": "code",
   "execution_count": 13,
   "metadata": {},
   "outputs": [
    {
     "name": "stdout",
     "output_type": "stream",
     "text": [
      "{'status': 'success', 'description': 'Data successfully received.', 'data': {'geo': {'host': '224.0.0.251', 'ip': '224.0.0.251', 'rdns': '224.0.0.251', 'asn': '', 'isp': '', 'country_name': '', 'country_code': '', 'region_name': '', 'region_code': '', 'city': '', 'postal_code': '', 'continent_name': '', 'continent_code': '', 'latitude': '', 'longitude': '', 'metro_code': '', 'timezone': '', 'datetime': ''}}}\n",
      "{'status': 'success', 'description': 'Data successfully received.', 'data': {'geo': {'host': '224.0.0.22', 'ip': '224.0.0.22', 'rdns': 'igmp.mcast.net', 'asn': '', 'isp': '', 'country_name': '', 'country_code': '', 'region_name': '', 'region_code': '', 'city': '', 'postal_code': '', 'continent_name': '', 'continent_code': '', 'latitude': '', 'longitude': '', 'metro_code': '', 'timezone': '', 'datetime': ''}}}\n",
      "{'status': 'success', 'description': 'Data successfully received.', 'data': {'geo': {'host': '8.8.8.8', 'ip': '8.8.8.8', 'rdns': 'dns.google', 'asn': 15169, 'isp': 'GOOGLE', 'country_name': 'United States', 'country_code': 'US', 'region_name': None, 'region_code': None, 'city': None, 'postal_code': None, 'continent_name': 'North America', 'continent_code': 'NA', 'latitude': 37.751, 'longitude': -97.822, 'metro_code': None, 'timezone': 'America/Chicago', 'datetime': '2022-01-17 12:33:43'}}}\n",
      "{'status': 'success', 'description': 'Data successfully received.', 'data': {'geo': {'host': '18.194.252.210', 'ip': '18.194.252.210', 'rdns': 'ec2-18-194-252-210.eu-central-1.compute.amazonaws.com', 'asn': 16509, 'isp': 'AMAZON-02', 'country_name': 'Germany', 'country_code': 'DE', 'region_name': 'Hesse', 'region_code': 'HE', 'city': 'Frankfurt am Main', 'postal_code': '60313', 'continent_name': 'Europe', 'continent_code': 'EU', 'latitude': 50.1188, 'longitude': 8.6843, 'metro_code': None, 'timezone': 'Europe/Berlin', 'datetime': '2022-01-17 19:33:43'}}}\n",
      "{'status': 'success', 'description': 'Data successfully received.', 'data': {'geo': {'host': '239.255.255.251', 'ip': '239.255.255.251', 'rdns': '239.255.255.251', 'asn': '', 'isp': '', 'country_name': '', 'country_code': '', 'region_name': '', 'region_code': '', 'city': '', 'postal_code': '', 'continent_name': '', 'continent_code': '', 'latitude': '', 'longitude': '', 'metro_code': '', 'timezone': '', 'datetime': ''}}}\n",
      "{'status': 'success', 'description': 'Data successfully received.', 'data': {'geo': {'host': '224.0.0.250', 'ip': '224.0.0.250', 'rdns': '224.0.0.250', 'asn': '', 'isp': '', 'country_name': '', 'country_code': '', 'region_name': '', 'region_code': '', 'city': '', 'postal_code': '', 'continent_name': '', 'continent_code': '', 'latitude': '', 'longitude': '', 'metro_code': '', 'timezone': '', 'datetime': ''}}}\n",
      "{'status': 'success', 'description': 'Data successfully received.', 'data': {'geo': {'host': '255.255.255.255', 'ip': '255.255.255.255', 'rdns': '255.255.255.255', 'asn': '', 'isp': '', 'country_name': '', 'country_code': '', 'region_name': '', 'region_code': '', 'city': '', 'postal_code': '', 'continent_name': '', 'continent_code': '', 'latitude': '', 'longitude': '', 'metro_code': '', 'timezone': '', 'datetime': ''}}}\n",
      "{'status': 'success', 'description': 'Data successfully received.', 'data': {'geo': {'host': '224.0.0.1', 'ip': '224.0.0.1', 'rdns': 'all-systems.mcast.net', 'asn': '', 'isp': '', 'country_name': '', 'country_code': '', 'region_name': '', 'region_code': '', 'city': '', 'postal_code': '', 'continent_name': '', 'continent_code': '', 'latitude': '', 'longitude': '', 'metro_code': '', 'timezone': '', 'datetime': ''}}}\n"
     ]
    }
   ],
   "source": [
    "df_destinations =  df['Destination'].unique()\n",
    "\n",
    "for dest in df_destinations[:10]: # 10 entries limit for now\n",
    "    if dest.startswith(\"192.168\"):\n",
    "            continue\n",
    "    headers = { 'User-Agent': \"keycdn-tools:https://www.example.com\" }\n",
    "    url = \"https://tools.keycdn.com/geo.json?host={}\".format(dest)\n",
    "    r = requests.get(url, headers=headers)\n",
    "    print(r.json() )  \n"
   ]
  },
  {
   "cell_type": "markdown",
   "metadata": {},
   "source": [
    "### Data traffic over time ###"
   ]
  },
  {
   "cell_type": "code",
   "execution_count": null,
   "metadata": {
    "pycharm": {
     "name": "#%%\n"
    }
   },
   "outputs": [
    {
     "name": "stdout",
     "output_type": "stream",
     "text": [
      "from  1642338148  to  1642424542\n",
      "97\n"
     ]
    }
   ],
   "source": [
    "def timeMapping(x):\n",
    "    # include time difference UTC+1\n",
    "    time = datetime.utcfromtimestamp(x*min_15_duration + 3600)\n",
    "    if time.minute == 0 and time.hour % 3 == 0:\n",
    "        return time.strftime(\"%H:%M\")\n",
    "    else:\n",
    "        return \"\"\n",
    "\n",
    "# find first and last timestamp, then create data structure\n",
    "min_15_duration = 60 * 15\n",
    "df_time_mod = df.copy()\n",
    "df_time_mod['Time'] = df_time_mod['Time'].apply(lambda x: utcEntryToTimestamp(x)) # map to 15 min window\n",
    "df_time_mod.head()\n",
    "first_entry = df_time_mod.iloc[0].at['Time'] // min_15_duration\n",
    "last_entry = df_time_mod.iloc[-1].at['Time'] // min_15_duration\n",
    "\n",
    "print('from ', df_time_mod.iloc[0].at['Time'], \" to \", df_time_mod.iloc[-1].at['Time'])\n",
    "\n",
    "count_packets = np.zeros(last_entry - first_entry + 1)\n",
    "length_packets = np.zeros(last_entry - first_entry + 1)\n",
    "\n",
    "x_values_packets = list(range(first_entry, last_entry + 1))\n",
    "print(len(x_values_packets))\n",
    "\n",
    "mapping_res = list(map(timeMapping, x_values_packets))\n",
    "\n",
    "# print(mapping_res)\n",
    "\n",
    "for index, row in df_time_mod.iterrows():\n",
    "    ts = row.at['Time'] // min_15_duration\n",
    "    count_packets[ts - first_entry] += 1\n",
    "    length_packets[ts - first_entry] += row.at['Length']\n",
    "\n",
    "length_packets = length_packets // 1000\n",
    "print(count_packets)\n",
    "print(length_packets)\n",
    "\n",
    "fig, ax = plt.subplots()\n",
    "plt.xlabel('Time')\n",
    "plt.ylabel('Packets')\n",
    "plt.title('Packets per timeframe (15 min interval)')\n",
    "plt.xticks(x_values_packets, mapping_res)\n",
    "ax.bar(x_values_packets, count_packets, color='black')\n",
    "fig.show()\n",
    "\n",
    "fig, ax = plt.subplots()\n",
    "plt.xlabel('Time')\n",
    "plt.ylabel('Data [kB]')\n",
    "plt.title('Data traffic per timeframe (15 min interval)')\n",
    "plt.xticks(x_values_packets, mapping_res)\n",
    "ax.bar(x_values_packets, length_packets, color='black')\n",
    "fig.show()"
   ]
  },
  {
   "cell_type": "code",
   "execution_count": null,
   "metadata": {
    "pycharm": {
     "name": "#%%\n"
    }
   },
   "outputs": [],
   "source": []
  },
  {
   "cell_type": "code",
   "execution_count": null,
   "metadata": {},
   "outputs": [],
   "source": []
  },
  {
   "cell_type": "code",
   "execution_count": null,
   "metadata": {},
   "outputs": [],
   "source": []
  },
  {
   "cell_type": "code",
   "execution_count": null,
   "metadata": {},
   "outputs": [],
   "source": []
  },
  {
   "cell_type": "code",
   "execution_count": null,
   "metadata": {},
   "outputs": [],
   "source": []
  },
  {
   "cell_type": "code",
   "execution_count": null,
   "metadata": {},
   "outputs": [],
   "source": []
  },
  {
   "cell_type": "code",
   "execution_count": null,
   "metadata": {},
   "outputs": [],
   "source": []
  }
 ],
 "metadata": {
  "kernelspec": {
   "display_name": "Python 3 (ipykernel)",
   "language": "python",
   "name": "python3"
  },
  "language_info": {
   "codemirror_mode": {
    "name": "ipython",
    "version": 3
   },
   "file_extension": ".py",
   "mimetype": "text/x-python",
   "name": "python",
   "nbconvert_exporter": "python",
   "pygments_lexer": "ipython3",
   "version": "3.9.7"
  }
 },
 "nbformat": 4,
 "nbformat_minor": 1
}
