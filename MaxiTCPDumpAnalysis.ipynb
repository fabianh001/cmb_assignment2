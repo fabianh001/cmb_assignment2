{
 "cells": [
  {
   "cell_type": "markdown",
   "metadata": {},
   "source": [
    "### CMB Assigment 2 Program ###"
   ]
  },
  {
   "cell_type": "code",
   "execution_count": null,
   "metadata": {},
   "outputs": [],
   "source": [
    "# Program, run imports\n",
    "%matplotlib inline\n",
    "import pandas as pd\n",
    "import matplotlib.pyplot as plt\n",
    "from datetime import datetime\n",
    "import numpy as np\n",
    "import time\n",
    "import seaborn as sns\n",
    "import requests\n",
    "sns.set(style=\"darkgrid\")"
   ]
  },
  {
   "cell_type": "markdown",
   "metadata": {},
   "source": [
    "Create Pandas Dataframe"
   ]
  },
  {
   "cell_type": "code",
   "execution_count": null,
   "metadata": {
    "pycharm": {
     "name": "#%%\n"
    }
   },
   "outputs": [],
   "source": [
    "#df = pd.read_csv(\"data/21-12-23_complete.csv\")\n",
    "# data_folder = \"/Users/Fabian/Desktop/\"\n",
    "data_folder = \"/Users/Fabian/Desktop/\"\n",
    "\n",
    "# data_folder = \"C:/Users/maxim/Documents/RaspData/Preprocessed Data/\"\n",
    "df = pd.read_csv(data_folder + \"1dayAll.csv\", encoding = \"latin\")\n",
    "#df = pd.read_csv(data_folder + \"1A\", encoding = \"latin\")\n",
    "print(df)\n",
    "# ['No.', 'Time', 'Source', 'Destination', 'Protocol', 'Length', 'Info', 'dst port']\n"
   ]
  },
  {
   "cell_type": "markdown",
   "metadata": {},
   "source": [
    "Filter Local Traffic"
   ]
  },
  {
   "cell_type": "code",
   "execution_count": null,
   "metadata": {},
   "outputs": [],
   "source": [
    "# source and destination should not start with 192.168 to filter local network\n",
    "filtered = df.loc[~df['Source'].str.startswith(\"192.168\") & df['Destination'].str.startswith(\"192.168\") |\n",
    "                 df['Source'].str.startswith(\"192.168\") & ~df['Destination'].str.startswith(\"192.168\")]\n",
    "\n",
    "# filter multicast\n",
    "filtered = filtered.loc[~filtered['Protocol'].str.contains(\"MDNS\")]\n",
    "filtered = filtered.loc[filtered['Destination'].str.split('.').str[0].astype(int) < 224]\n",
    "# filter dhcp\n",
    "filtered = filtered.loc[~filtered['Destination'].str.contains(\"192.168.0.1\")]\n",
    "filtered = filtered.loc[~filtered['Destination'].str.contains(\"192.168.178.1\")]\n",
    "filtered = filtered.loc[~filtered['Destination'].str.contains(\"0.0.0.0\")]\n",
    "\n",
    "df = filtered.copy()\n",
    "print(df)"
   ]
  },
  {
   "cell_type": "code",
   "execution_count": null,
   "metadata": {
    "pycharm": {
     "name": "#%%\n"
    }
   },
   "outputs": [],
   "source": [
    "# helper functions\n",
    "def utcEntryToTimestamp(entry):\n",
    "    if '.' in entry:\n",
    "        row_entry = entry.split(\".\")[0]\n",
    "    else:\n",
    "        row_entry = entry.split(\",\")[0]\n",
    "    TIME_FORMAT='%Y-%m-%d %H:%M:%S'\n",
    "    ts = int(datetime.strptime(row_entry, TIME_FORMAT).timestamp())\n",
    "    return ts\n",
    "\n",
    "def utcRowToTimestamp(row):\n",
    "    return utcEntryToTimestamp(row.at['Time'])\n",
    "utcRowToTimestamp(df.iloc[0])\n",
    "# print(df.loc[0].at['Time'])"
   ]
  },
  {
   "cell_type": "markdown",
   "metadata": {},
   "source": [
    "### Protocol packet distribution ###"
   ]
  },
  {
   "cell_type": "code",
   "execution_count": null,
   "metadata": {
    "pycharm": {
     "name": "#%%\n"
    }
   },
   "outputs": [],
   "source": [
    "print(df.groupby('Protocol').Source.count())\n",
    "\n",
    "count_protocol_packets = df.groupby('Protocol').Source.count()\n",
    "\n",
    "fig, ax = plt.subplots()\n",
    "plt.title('Protocol Distribution by Amount of Packets')\n",
    "ax.pie(count_protocol_packets, labels=count_protocol_packets.keys(), autopct='%1.1f%%',)\n",
    "fig.show()"
   ]
  },
  {
   "cell_type": "markdown",
   "metadata": {},
   "source": [
    "### Amount of data traffic per protocol ###"
   ]
  },
  {
   "cell_type": "code",
   "execution_count": null,
   "metadata": {
    "pycharm": {
     "name": "#%%\n"
    }
   },
   "outputs": [],
   "source": [
    "count_protocol_traffic = df.groupby('Protocol').Length.sum()\n",
    "print(count_protocol_traffic)\n",
    "fig, ax = plt.subplots()\n",
    "plt.title('Protocol Distribution by Data Traffic')\n",
    "ax.pie(count_protocol_traffic, labels=count_protocol_traffic.keys(), autopct='%1.1f%%',)\n",
    "fig.show()"
   ]
  },
  {
   "cell_type": "markdown",
   "metadata": {},
   "source": [
    "### Average Data length per Protocol Type ###"
   ]
  },
  {
   "cell_type": "code",
   "execution_count": null,
   "metadata": {
    "pycharm": {
     "name": "#%%\n"
    }
   },
   "outputs": [],
   "source": [
    "average_protocol_packet_length = df.groupby('Protocol').Length.sum() / df.groupby('Protocol').Length.count()\n",
    "print(average_protocol_packet_length)\n",
    "fig, ax = plt.subplots()\n",
    "ax.tick_params(axis='x', which='major', labelsize=12)\n",
    "ax.tick_params(axis='x', which='minor', labelsize=12)\n",
    "plt.xlabel('Protocol')\n",
    "plt.ylabel('Data [Byte]')\n",
    "plt.title('Average Data Length per Protocol Type')\n",
    "ax.bar(average_protocol_packet_length.keys(), average_protocol_packet_length, align='center',)\n",
    "plt.xticks(rotation=60, ha=\"right\")\n",
    "fig.show()"
   ]
  },
  {
   "cell_type": "markdown",
   "metadata": {},
   "source": [
    "### Source addresses ###"
   ]
  },
  {
   "cell_type": "code",
   "execution_count": null,
   "metadata": {
    "pycharm": {
     "name": "#%%\n"
    }
   },
   "outputs": [],
   "source": [
    "print(df.groupby('Source').Time.count())\n",
    "print(df.groupby('Destination').Time.count().sort_values())\n",
    "\n",
    "unique_dests = df['Destination'].unique()\n",
    "\n",
    "# write ip address destinations to file\n",
    "file1 = open(\"Testfile.txt\",\"w\")\n",
    "for row in unique_dests:\n",
    "    file1.write(row + \"\\n\")\n",
    "file1.close()"
   ]
  },
  {
   "cell_type": "code",
   "execution_count": null,
   "metadata": {
    "pycharm": {
     "name": "#%%\n"
    }
   },
   "outputs": [],
   "source": [
    "print(df.groupby('Source').Time.count())\n",
    "print(df.groupby('Destination').Time.count().sort_values())"
   ]
  },
  {
   "cell_type": "markdown",
   "metadata": {},
   "source": [
    "### DNS requests ###"
   ]
  },
  {
   "cell_type": "code",
   "execution_count": null,
   "metadata": {
    "pycharm": {
     "name": "#%%\n"
    }
   },
   "outputs": [],
   "source": [
    "df_dns = df[df['Protocol'].isin(['DNS'])]\n",
    "df_dns.head()\n",
    "df_dns_requests_1 = df_dns[df_dns['Info'].str.contains('Standard query')]\n",
    "# does not contain response\n",
    "df_dns_requests_2 = df_dns_requests_1[~df_dns_requests_1['Info'].str.contains('response')]\n",
    "df_dns_resources = df_dns_requests_2['Info'].apply(lambda x: x.split(' ')[-1]).value_counts()\n",
    "print(df_dns_resources)\n",
    "# print(df_dns_requests)\n",
    "# print(df_dns['Info'])\n"
   ]
  },
  {
   "cell_type": "markdown",
   "metadata": {},
   "source": [
    "### IP Wordlwide location"
   ]
  },
  {
   "cell_type": "code",
   "execution_count": null,
   "metadata": {},
   "outputs": [],
   "source": [
    "df_destinations =  df['Destination'].unique()\n",
    "\n",
    "for dest in df_destinations[:10]: # 10 entries limit for now\n",
    "    if dest.startswith(\"192.168\"):\n",
    "            continue\n",
    "    headers = { 'User-Agent': \"keycdn-tools:https://www.example.com\" }\n",
    "    url = \"https://tools.keycdn.com/geo.json?host={}\".format(dest)\n",
    "    r = requests.get(url, headers=headers)\n",
    "    print(r.json() )  \n"
   ]
  },
  {
   "cell_type": "markdown",
   "metadata": {},
   "source": [
    "### Data traffic over time ###"
   ]
  },
  {
   "cell_type": "code",
   "execution_count": null,
   "metadata": {
    "pycharm": {
     "name": "#%%\n"
    }
   },
   "outputs": [],
   "source": [
    "def timeMapping(x):\n",
    "    # include time difference UTC+1\n",
    "    time = datetime.utcfromtimestamp(x*min_15_duration + 3600)\n",
    "    if time.minute == 0 and time.hour % 3 == 0:\n",
    "        return time.strftime(\"%H:%M\")\n",
    "    else:\n",
    "        return \"\"\n",
    "\n",
    "# find first and last timestamp, then create data structure\n",
    "min_15_duration = 60 * 15\n",
    "# df_time_mod = df.copy()\n",
    "print('Compute intensive task 1/3...')\n",
    "df['index-time'] = df['Time'] # .apply(lambda x: x)) # map to 15 min window\n",
    "df['index-time'] = df['index-time'].apply(lambda x: utcEntryToTimestamp(x))\n",
    "\n",
    "first_entry = df.iloc[0].at['index-time'] // min_15_duration\n",
    "last_entry = df.iloc[-1].at['index-time'] // min_15_duration\n",
    "\n",
    "print('from ', df.iloc[0].at['Time'], \" to \", df.iloc[-1].at['Time'])\n",
    "\n",
    "count_packets = np.zeros(last_entry - first_entry + 1)\n",
    "length_packets = np.zeros(last_entry - first_entry + 1)\n",
    "\n",
    "x_values_packets = list(range(first_entry, last_entry + 1))\n",
    "print('Amount of Intervals',len(x_values_packets))\n",
    "\n",
    "mapping_res = list(map(timeMapping, x_values_packets))\n",
    "\n",
    "print('Compute intensive task 2/3...')\n",
    "df['index-time'] = (df['index-time'] // min_15_duration) - first_entry\n"
   ]
  },
  {
   "cell_type": "code",
   "execution_count": null,
   "metadata": {},
   "outputs": [],
   "source": [
    "count_packets = np.zeros(last_entry - first_entry + 1)\n",
    "length_packets = np.zeros(last_entry - first_entry + 1)\n",
    "print('Compute intensive task 3/3...')\n",
    "time_start = time.time()\n",
    "for row in df.to_dict('records'):\n",
    "    count_packets[row['index-time']] += 1\n",
    "    length_packets[row['index-time']] += row['Length']\n",
    "\n",
    "# old solution:\n",
    "#for index, row in df.iterrows():\n",
    "#    count_packets[row.at['index-time']] += 1\n",
    "#    length_packets[row.at['index-time']] += row.at['Length']\n",
    "\n",
    "time_end = time.time()\n",
    "print(time_end - time_start)\n",
    "\n",
    "length_packets = length_packets // 1000\n",
    "#print(count_packets)\n",
    "#print(length_packets)\n",
    "\n",
    "fig, ax = plt.subplots()\n",
    "plt.xlabel('Time')\n",
    "plt.ylabel('Packets')\n",
    "plt.title('Packets per timeframe (15 min interval)')\n",
    "plt.xticks(x_values_packets, mapping_res)\n",
    "ax.bar(x_values_packets, count_packets, color='black')\n",
    "fig.show()\n",
    "\n",
    "fig, ax = plt.subplots()\n",
    "plt.xlabel('Time')\n",
    "plt.ylabel('Data [kB]')\n",
    "plt.title('Data traffic per timeframe (15 min interval)')\n",
    "plt.xticks(x_values_packets, mapping_res)\n",
    "ax.bar(x_values_packets, length_packets, color='black')\n",
    "fig.show()"
   ]
  },
  {
   "cell_type": "code",
   "execution_count": null,
   "metadata": {},
   "outputs": [],
   "source": []
  },
  {
   "cell_type": "code",
   "execution_count": null,
   "metadata": {},
   "outputs": [],
   "source": []
  },
  {
   "cell_type": "markdown",
   "metadata": {},
   "source": [
    "End of the notebook"
   ]
  }
 ],
 "metadata": {
  "kernelspec": {
   "display_name": "Python 3 (ipykernel)",
   "language": "python",
   "name": "python3"
  },
  "language_info": {
   "codemirror_mode": {
    "name": "ipython",
    "version": 3
   },
   "file_extension": ".py",
   "mimetype": "text/x-python",
   "name": "python",
   "nbconvert_exporter": "python",
   "pygments_lexer": "ipython3",
   "version": "3.10.1"
  }
 },
 "nbformat": 4,
 "nbformat_minor": 1
}
