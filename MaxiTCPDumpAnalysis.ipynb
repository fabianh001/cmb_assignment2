{
 "cells": [
  {
   "cell_type": "markdown",
   "source": [
    "### CMB Assigment 2 Program ###"
   ],
   "metadata": {
    "collapsed": false
   }
  },
  {
   "cell_type": "code",
   "execution_count": 109,
   "metadata": {
    "collapsed": true
   },
   "outputs": [],
   "source": [
    "# Program, run imports\n",
    "%matplotlib inline\n",
    "import pandas as pd\n",
    "import matplotlib.pyplot as plt\n",
    "from datetime import datetime\n",
    "import numpy as np\n",
    "import seaborn as sns\n",
    "sns.set(style=\"darkgrid\")"
   ]
  },
  {
   "cell_type": "markdown",
   "source": [
    "Create Pandas Dataframe"
   ],
   "metadata": {
    "collapsed": false
   }
  },
  {
   "cell_type": "code",
   "execution_count": 110,
   "outputs": [
    {
     "data": {
      "text/plain": "   No.                        Time                                 Source  \\\n0    1  2021-12-23 01:10:58,599064  2003:c1:3712:ac00:e228:6dff:fe67:1d98   \n1    2  2021-12-23 01:10:58,603258                          192.168.178.1   \n2    3  2021-12-23 01:11:48,321949                         192.168.178.21   \n3    4  2021-12-23 01:11:48,338343                          192.168.178.1   \n4    5  2021-12-23 01:11:56,374062                          192.168.178.1   \n\n                             Destination Protocol  Length  \\\n0  2003:c1:3712:ac00:ba27:ebff:fe98:7cbe      TCP      94   \n1                         192.168.178.63      TCP      74   \n2                          192.168.178.1      DNS     102   \n3                         192.168.178.21      DNS     176   \n4                         192.168.178.21      TCP      74   \n\n                                                Info  dst port  \n0  41661  >  80 [SYN] Seq=0 Win=28640 Len=0 MSS=1...         1  \n1  34031  >  80 [SYN] Seq=0 Win=29200 Len=0 MSS=1...         2  \n2  Standard query 0x736e A epdg.epc.mnc002.mcc262...         3  \n3  Standard query response 0x736e A epdg.epc.mnc0...         4  \n4  46251  >  80 [SYN] Seq=0 Win=29200 Len=0 MSS=1...         5  ",
      "text/html": "<div>\n<style scoped>\n    .dataframe tbody tr th:only-of-type {\n        vertical-align: middle;\n    }\n\n    .dataframe tbody tr th {\n        vertical-align: top;\n    }\n\n    .dataframe thead th {\n        text-align: right;\n    }\n</style>\n<table border=\"1\" class=\"dataframe\">\n  <thead>\n    <tr style=\"text-align: right;\">\n      <th></th>\n      <th>No.</th>\n      <th>Time</th>\n      <th>Source</th>\n      <th>Destination</th>\n      <th>Protocol</th>\n      <th>Length</th>\n      <th>Info</th>\n      <th>dst port</th>\n    </tr>\n  </thead>\n  <tbody>\n    <tr>\n      <th>0</th>\n      <td>1</td>\n      <td>2021-12-23 01:10:58,599064</td>\n      <td>2003:c1:3712:ac00:e228:6dff:fe67:1d98</td>\n      <td>2003:c1:3712:ac00:ba27:ebff:fe98:7cbe</td>\n      <td>TCP</td>\n      <td>94</td>\n      <td>41661  &gt;  80 [SYN] Seq=0 Win=28640 Len=0 MSS=1...</td>\n      <td>1</td>\n    </tr>\n    <tr>\n      <th>1</th>\n      <td>2</td>\n      <td>2021-12-23 01:10:58,603258</td>\n      <td>192.168.178.1</td>\n      <td>192.168.178.63</td>\n      <td>TCP</td>\n      <td>74</td>\n      <td>34031  &gt;  80 [SYN] Seq=0 Win=29200 Len=0 MSS=1...</td>\n      <td>2</td>\n    </tr>\n    <tr>\n      <th>2</th>\n      <td>3</td>\n      <td>2021-12-23 01:11:48,321949</td>\n      <td>192.168.178.21</td>\n      <td>192.168.178.1</td>\n      <td>DNS</td>\n      <td>102</td>\n      <td>Standard query 0x736e A epdg.epc.mnc002.mcc262...</td>\n      <td>3</td>\n    </tr>\n    <tr>\n      <th>3</th>\n      <td>4</td>\n      <td>2021-12-23 01:11:48,338343</td>\n      <td>192.168.178.1</td>\n      <td>192.168.178.21</td>\n      <td>DNS</td>\n      <td>176</td>\n      <td>Standard query response 0x736e A epdg.epc.mnc0...</td>\n      <td>4</td>\n    </tr>\n    <tr>\n      <th>4</th>\n      <td>5</td>\n      <td>2021-12-23 01:11:56,374062</td>\n      <td>192.168.178.1</td>\n      <td>192.168.178.21</td>\n      <td>TCP</td>\n      <td>74</td>\n      <td>46251  &gt;  80 [SYN] Seq=0 Win=29200 Len=0 MSS=1...</td>\n      <td>5</td>\n    </tr>\n  </tbody>\n</table>\n</div>"
     },
     "execution_count": 110,
     "metadata": {},
     "output_type": "execute_result"
    }
   ],
   "source": [
    "df = pd.read_csv(\"data/21-12-23_complete.csv\")\n",
    "#df = pd.read_csv(\"data/2022-01-04_complete.csv\")\n",
    "df.head()\n",
    "# ['No.', 'Time', 'Source', 'Destination', 'Protocol', 'Length', 'Info', 'dst port']\n"
   ],
   "metadata": {
    "collapsed": false,
    "pycharm": {
     "name": "#%%\n"
    }
   }
  },
  {
   "cell_type": "code",
   "execution_count": 111,
   "outputs": [
    {
     "data": {
      "text/plain": "1640218258"
     },
     "execution_count": 111,
     "metadata": {},
     "output_type": "execute_result"
    }
   ],
   "source": [
    "# helper functions\n",
    "def utcEntryToTimestamp(entry):\n",
    "    row_entry = entry.split(\",\")[0]\n",
    "    TIME_FORMAT='%Y-%m-%d %H:%M:%S'\n",
    "    ts = int(datetime.strptime(row_entry, TIME_FORMAT).timestamp())\n",
    "    return ts\n",
    "\n",
    "def utcRowToTimestamp(row):\n",
    "    return utcEntryToTimestamp(row.at['Time'])\n",
    "utcRowToTimestamp(df.loc[0])\n",
    "# print(df.loc[0].at['Time'])"
   ],
   "metadata": {
    "collapsed": false,
    "pycharm": {
     "name": "#%%\n"
    }
   }
  },
  {
   "cell_type": "markdown",
   "source": [
    "### Protocol packet distribution ###"
   ],
   "metadata": {
    "collapsed": false
   }
  },
  {
   "cell_type": "code",
   "execution_count": 112,
   "outputs": [
    {
     "name": "stdout",
     "output_type": "stream",
     "text": [
      "Protocol\n",
      "DNS         2117\n",
      "HTTP          12\n",
      "QUIC         982\n",
      "SSL          265\n",
      "TCP        81563\n",
      "TLSv1          6\n",
      "TLSv1.2    10138\n",
      "TLSv1.3       17\n",
      "Name: Source, dtype: int64\n"
     ]
    },
    {
     "name": "stderr",
     "output_type": "stream",
     "text": [
      "C:\\Users\\maxim\\AppData\\Local\\Temp/ipykernel_18424/3402156693.py:7: UserWarning: Matplotlib is currently using module://matplotlib_inline.backend_inline, which is a non-GUI backend, so cannot show the figure.\n",
      "  fig.show()\n"
     ]
    },
    {
     "data": {
      "text/plain": "<Figure size 432x288 with 1 Axes>",
      "image/png": "[encoded data removed]"
     },
     "metadata": {},
     "output_type": "display_data"
    }
   ],
   "source": [
    "print(df.groupby('Protocol').Source.count())\n",
    "\n",
    "count_protocol_packets = df.groupby('Protocol').Source.count()\n",
    "\n",
    "fig, ax = plt.subplots()\n",
    "ax.pie(count_protocol_packets, labels=count_protocol_packets.keys(), autopct='%1.1f%%',)\n",
    "fig.show()"
   ],
   "metadata": {
    "collapsed": false,
    "pycharm": {
     "name": "#%%\n"
    }
   }
  },
  {
   "cell_type": "markdown",
   "source": [
    "### Amount of data traffic per protocol ###"
   ],
   "metadata": {
    "collapsed": false
   }
  },
  {
   "cell_type": "code",
   "execution_count": 113,
   "outputs": [
    {
     "name": "stdout",
     "output_type": "stream",
     "text": [
      "Protocol\n",
      "DNS          237177\n",
      "HTTP           3346\n",
      "QUIC         482067\n",
      "SSL          188090\n",
      "TCP        28491431\n",
      "TLSv1          2824\n",
      "TLSv1.2     7141682\n",
      "TLSv1.3        5404\n",
      "Name: Length, dtype: int64\n"
     ]
    },
    {
     "name": "stderr",
     "output_type": "stream",
     "text": [
      "C:\\Users\\maxim\\AppData\\Local\\Temp/ipykernel_18424/3990807777.py:5: UserWarning: Matplotlib is currently using module://matplotlib_inline.backend_inline, which is a non-GUI backend, so cannot show the figure.\n",
      "  fig.show()\n"
     ]
    },
    {
     "data": {
      "text/plain": "<Figure size 432x288 with 1 Axes>",
      "image/png": "[encoded data removed]"
     },
     "metadata": {},
     "output_type": "display_data"
    }
   ],
   "source": [
    "count_protocol_traffic = df.groupby('Protocol').Length.sum()\n",
    "print(count_protocol_traffic)\n",
    "fig, ax = plt.subplots()\n",
    "ax.pie(count_protocol_traffic, labels=count_protocol_traffic.keys(), autopct='%1.1f%%',)\n",
    "fig.show()"
   ],
   "metadata": {
    "collapsed": false,
    "pycharm": {
     "name": "#%%\n"
    }
   }
  },
  {
   "cell_type": "markdown",
   "source": [
    "### Average Data length per packet ###"
   ],
   "metadata": {
    "collapsed": false
   }
  },
  {
   "cell_type": "code",
   "execution_count": 114,
   "outputs": [
    {
     "name": "stdout",
     "output_type": "stream",
     "text": [
      "Protocol\n",
      "DNS        112.034483\n",
      "HTTP       278.833333\n",
      "QUIC       490.903259\n",
      "SSL        709.773585\n",
      "TCP        349.318085\n",
      "TLSv1      470.666667\n",
      "TLSv1.2    704.446834\n",
      "TLSv1.3    317.882353\n",
      "Name: Length, dtype: float64"
     ]
    },
    {
     "name": "stderr",
     "output_type": "stream",
     "text": [
      "C:\\Users\\maxim\\AppData\\Local\\Temp/ipykernel_18424/3215549809.py:5: UserWarning: Matplotlib is currently using module://matplotlib_inline.backend_inline, which is a non-GUI backend, so cannot show the figure.\n",
      "  fig.show()\n"
     ]
    },
    {
     "name": "stdout",
     "output_type": "stream",
     "text": [
      "\n"
     ]
    },
    {
     "data": {
      "text/plain": "<Figure size 432x288 with 1 Axes>",
      "image/png": "[encoded data removed]"
     },
     "metadata": {},
     "output_type": "display_data"
    }
   ],
   "source": [
    "average_protocol_packet_length = df.groupby('Protocol').Length.sum() / df.groupby('Protocol').Length.count()\n",
    "print(average_protocol_packet_length)\n",
    "fig, ax = plt.subplots()\n",
    "ax.bar(average_protocol_packet_length.keys(), average_protocol_packet_length)\n",
    "fig.show()"
   ],
   "metadata": {
    "collapsed": false,
    "pycharm": {
     "name": "#%%\n"
    }
   }
  },
  {
   "cell_type": "markdown",
   "source": [
    "### Source addresses ###"
   ],
   "metadata": {
    "collapsed": false
   }
  },
  {
   "cell_type": "code",
   "execution_count": 115,
   "outputs": [
    {
     "name": "stdout",
     "output_type": "stream",
     "text": [
      "Source\n",
      "192.168.178.1                             1492\n",
      "192.168.178.21                           93354\n",
      "192.168.178.63                               4\n",
      "195.54.160.149                               2\n",
      "2003:c1:3712:ac00:e228:6dff:fe67:1d98      241\n",
      "61.219.11.151                                1\n",
      "8.8.8.8                                      6\n",
      "Name: Time, dtype: int64\n",
      "Destination\n",
      "104.208.16.88     34\n",
      "104.212.67.234    28\n",
      "110.234.246.33    15\n",
      "125.209.252.18    12\n",
      "129.187.125.57    47\n",
      "                  ..\n",
      "99.84.82.80       29\n",
      "99.84.82.84       37\n",
      "99.84.82.90       62\n",
      "99.84.82.94       33\n",
      "99.84.85.10       14\n",
      "Name: Time, Length: 209, dtype: int64\n"
     ]
    }
   ],
   "source": [
    "print(df.groupby('Source').Time.count())\n",
    "print(df.groupby('Destination').Time.count())"
   ],
   "metadata": {
    "collapsed": false,
    "pycharm": {
     "name": "#%%\n"
    }
   }
  },
  {
   "cell_type": "markdown",
   "source": [
    "### DNS requests ###"
   ],
   "metadata": {
    "collapsed": false
   }
  },
  {
   "cell_type": "code",
   "execution_count": 116,
   "outputs": [
    {
     "name": "stdout",
     "output_type": "stream",
     "text": [
      "oauth.reddit.com                                                            87\n",
      "e.reddit.com                                                                84\n",
      "i.redd.it                                                                   59\n",
      "alb.reddit.com                                                              55\n",
      "gql.reddit.com                                                              49\n",
      "                                                                            ..\n",
      "cdn.optimizely.com                                                           1\n",
      "mads-eu.amazon.com                                                           1\n",
      "android.prod.ftl.netflix.com                                                 1\n",
      "reiseauskunft.bahn.de                                                        1\n",
      "e.b.c.7.8.9.e.f.f.f.b.e.7.2.a.b.0.0.0.0.0.0.0.0.0.0.0.0.0.8.e.f.ip6.arpa     1\n",
      "Name: Info, Length: 173, dtype: int64\n"
     ]
    }
   ],
   "source": [
    "df_dns = df[df['Protocol'].isin(['DNS'])]\n",
    "df_dns.head()\n",
    "df_dns_requests_1 = df_dns[df_dns['Info'].str.contains('Standard query')]\n",
    "# does not contain response\n",
    "df_dns_requests_2 = df_dns_requests_1[~df_dns_requests_1['Info'].str.contains('response')]\n",
    "df_dns_resources = df_dns_requests_2['Info'].apply(lambda x: x.split(' ')[-1]).value_counts()\n",
    "print(df_dns_resources)\n",
    "# print(df_dns_requests)\n",
    "# print(df_dns['Info'])\n"
   ],
   "metadata": {
    "collapsed": false,
    "pycharm": {
     "name": "#%%\n"
    }
   }
  },
  {
   "cell_type": "markdown",
   "source": [
    "### Data traffic over time ###"
   ],
   "metadata": {
    "collapsed": false
   }
  },
  {
   "cell_type": "code",
   "execution_count": 117,
   "outputs": [
    {
     "name": "stdout",
     "output_type": "stream",
     "text": [
      "2021-12-23 00:00:00\n",
      "[5.0000e+00 1.5100e+02 1.2000e+01 1.3000e+01 4.7000e+01 3.6300e+02\n",
      " 3.5000e+01 2.9000e+01 1.1000e+01 2.6000e+01 1.2000e+01 1.3000e+01\n",
      " 1.8373e+04 2.5000e+01 1.4000e+01 1.1000e+01 1.1000e+01 2.6000e+01\n",
      " 2.2500e+02 2.7000e+01 2.4000e+01 2.4000e+01 1.4000e+01 3.1000e+01\n",
      " 4.6900e+02 1.1000e+01 1.7000e+01 1.1000e+01 2.6600e+03 2.1700e+02\n",
      " 1.7781e+04 1.2392e+04 8.7500e+02 1.7000e+02 5.4040e+03 1.2200e+02\n",
      " 7.2500e+03 3.0000e+01 1.2200e+02 9.7300e+02 2.4600e+02 3.6300e+02\n",
      " 2.1500e+02 4.9170e+03 8.9900e+03 1.2400e+02 1.0231e+04 2.6000e+01\n",
      " 1.1200e+02 6.4000e+01 5.3700e+02 1.8000e+02 8.1300e+02 5.0000e+00\n",
      " 9.0000e+00 4.0000e+00 8.0000e+00 4.0000e+00 6.0000e+00 4.0000e+00\n",
      " 7.0000e+00 4.0000e+00 8.0000e+00 5.0000e+00 6.0000e+00 4.0000e+00\n",
      " 5.0000e+00 4.0000e+00 8.0000e+00 5.0000e+00 5.0000e+00 7.0000e+00\n",
      " 4.0000e+00 4.0000e+00 7.0000e+00 4.0000e+00 6.0000e+00 8.0000e+00\n",
      " 5.0000e+00 5.0000e+00 7.0000e+00 6.0000e+00 4.0000e+00 7.0000e+00\n",
      " 4.0000e+00 8.0000e+00 4.0000e+00 5.0000e+00 1.5000e+01 4.0000e+00\n",
      " 4.0000e+00 9.0000e+00 5.0000e+00 5.0000e+00 8.0000e+00 5.0000e+00\n",
      " 5.0000e+00]\n",
      "[0.0000e+00 4.3000e+01 1.0000e+00 1.0000e+00 5.0000e+00 9.9000e+01\n",
      " 4.0000e+00 3.0000e+00 0.0000e+00 3.0000e+00 1.0000e+00 1.0000e+00\n",
      " 2.6156e+04 2.0000e+00 1.0000e+00 1.0000e+00 0.0000e+00 3.0000e+00\n",
      " 5.7000e+01 4.0000e+00 2.0000e+00 2.0000e+00 1.0000e+00 3.0000e+00\n",
      " 1.3000e+02 0.0000e+00 1.0000e+00 0.0000e+00 5.9800e+02 3.8000e+01\n",
      " 1.8710e+03 1.5420e+03 1.4300e+02 2.4000e+01 6.1600e+02 1.3000e+01\n",
      " 9.9800e+02 3.0000e+00 4.8000e+01 2.3900e+02 6.0000e+01 6.8000e+01\n",
      " 3.6000e+01 7.7100e+02 9.1500e+02 2.3000e+01 1.5510e+03 3.0000e+00\n",
      " 1.2000e+01 1.3000e+01 1.3800e+02 2.6000e+01 2.3400e+02 0.0000e+00\n",
      " 0.0000e+00 0.0000e+00 0.0000e+00 0.0000e+00 0.0000e+00 0.0000e+00\n",
      " 0.0000e+00 0.0000e+00 0.0000e+00 0.0000e+00 0.0000e+00 0.0000e+00\n",
      " 0.0000e+00 0.0000e+00 0.0000e+00 0.0000e+00 0.0000e+00 0.0000e+00\n",
      " 0.0000e+00 0.0000e+00 0.0000e+00 0.0000e+00 0.0000e+00 0.0000e+00\n",
      " 0.0000e+00 0.0000e+00 0.0000e+00 0.0000e+00 0.0000e+00 0.0000e+00\n",
      " 0.0000e+00 0.0000e+00 0.0000e+00 0.0000e+00 1.0000e+00 0.0000e+00\n",
      " 0.0000e+00 0.0000e+00 0.0000e+00 0.0000e+00 0.0000e+00 0.0000e+00\n",
      " 0.0000e+00]\n"
     ]
    },
    {
     "name": "stderr",
     "output_type": "stream",
     "text": [
      "C:\\Users\\maxim\\AppData\\Local\\Temp/ipykernel_18424/3181078928.py:43: UserWarning: Matplotlib is currently using module://matplotlib_inline.backend_inline, which is a non-GUI backend, so cannot show the figure.\n",
      "  fig.show()\n",
      "C:\\Users\\maxim\\AppData\\Local\\Temp/ipykernel_18424/3181078928.py:51: UserWarning: Matplotlib is currently using module://matplotlib_inline.backend_inline, which is a non-GUI backend, so cannot show the figure.\n",
      "  fig.show()\n"
     ]
    },
    {
     "data": {
      "text/plain": "<Figure size 432x288 with 1 Axes>",
      "image/png": "[encoded data removed]"
     },
     "metadata": {},
     "output_type": "display_data"
    },
    {
     "data": {
      "text/plain": "<Figure size 432x288 with 1 Axes>",
      "image/png": "[encoded data removed]"
     },
     "metadata": {},
     "output_type": "display_data"
    }
   ],
   "source": [
    "def timeMapping(x):\n",
    "    # include time difference UTC+1\n",
    "    time = datetime.utcfromtimestamp(x*min_15_duration + 3600)\n",
    "    if time.minute == 0 and time.hour % 3 == 0:\n",
    "        return time.strftime(\"%H:%M\")\n",
    "    else:\n",
    "        return \"\"\n",
    "\n",
    "# find first and last timestamp, then create data structure\n",
    "min_15_duration = 60 * 15\n",
    "df_time_mod = df.copy()\n",
    "df_time_mod['Time'] = df_time_mod['Time'].apply(lambda x: utcEntryToTimestamp(x)) # map to 15 min window\n",
    "df_time_mod.head()\n",
    "first_entry = df_time_mod.loc[0].at['Time'] // min_15_duration\n",
    "last_entry = df_time_mod.iloc[-1].at['Time'] // min_15_duration\n",
    "\n",
    "\n",
    "offset = first_entry\n",
    "count_packets = np.zeros(last_entry - first_entry + 1)\n",
    "length_packets = np.zeros(last_entry - first_entry + 1)\n",
    "print(datetime.utcfromtimestamp(offset * min_15_duration))\n",
    "x_values_packets = list(range(offset, last_entry + 1))\n",
    "\n",
    "mapping_res = list(map(timeMapping, x_values_packets))\n",
    "\n",
    "# print(mapping_res)\n",
    "\n",
    "for index, row in df_time_mod.iterrows():\n",
    "    ts = row.at['Time'] // min_15_duration\n",
    "    count_packets[ts - offset] += 1\n",
    "    length_packets[ts - offset] += row.at['Length']\n",
    "\n",
    "length_packets = length_packets // 1000\n",
    "print(count_packets)\n",
    "print(length_packets)\n",
    "\n",
    "fig, ax = plt.subplots()\n",
    "plt.xlabel('Time')\n",
    "plt.ylabel('Packets')\n",
    "plt.title('Packets per timeframe (15 min interval)')\n",
    "plt.xticks(x_values_packets, mapping_res)\n",
    "ax.bar(x_values_packets, count_packets, color='black')\n",
    "fig.show()\n",
    "\n",
    "fig, ax = plt.subplots()\n",
    "plt.xlabel('Time')\n",
    "plt.ylabel('Data [kB]')\n",
    "plt.title('Data traffic per timeframe (15 min interval)')\n",
    "plt.xticks(x_values_packets, mapping_res)\n",
    "ax.bar(x_values_packets, length_packets, color='black')\n",
    "fig.show()"
   ],
   "metadata": {
    "collapsed": false,
    "pycharm": {
     "name": "#%%\n"
    }
   }
  },
  {
   "cell_type": "code",
   "execution_count": 117,
   "outputs": [],
   "source": [],
   "metadata": {
    "collapsed": false,
    "pycharm": {
     "name": "#%%\n"
    }
   }
  }
 ],
 "metadata": {
  "kernelspec": {
   "display_name": "Python 3",
   "language": "python",
   "name": "python3"
  },
  "language_info": {
   "codemirror_mode": {
    "name": "ipython",
    "version": 2
   },
   "file_extension": ".py",
   "mimetype": "text/x-python",
   "name": "python",
   "nbconvert_exporter": "python",
   "pygments_lexer": "ipython2",
   "version": "2.7.6"
  }
 },
 "nbformat": 4,
 "nbformat_minor": 0
}