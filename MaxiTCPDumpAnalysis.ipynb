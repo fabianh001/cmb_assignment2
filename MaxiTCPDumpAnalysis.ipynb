{
 "cells": [
  {
   "cell_type": "markdown",
   "metadata": {},
   "source": [
    "### CMB Assigment 2 Program ###"
   ]
  },
  {
   "cell_type": "code",
   "execution_count": 1,
   "metadata": {},
   "outputs": [],
   "source": [
    "# Program, run imports\n",
    "%matplotlib inline\n",
    "import pandas as pd\n",
    "import matplotlib.pyplot as plt\n",
    "from datetime import datetime\n",
    "import numpy as np\n",
    "import seaborn as sns\n",
    "import requests\n",
    "sns.set(style=\"darkgrid\")"
   ]
  },
  {
   "cell_type": "markdown",
   "metadata": {},
   "source": [
    "Create Pandas Dataframe"
   ]
  },
  {
   "cell_type": "code",
   "execution_count": 2,
   "metadata": {
    "pycharm": {
     "name": "#%%\n"
    }
   },
   "outputs": [
    {
     "name": "stdout",
     "output_type": "stream",
     "text": [
      "           No.                        Time        Source     Destination  \\\n",
      "0            1  2022-01-04 16:44:06.405328  192.168.0.22  188.164.238.26   \n",
      "1            2  2022-01-04 16:44:06.418960  192.168.0.22  188.164.238.26   \n",
      "2            3  2022-01-04 16:44:14.010838  192.168.0.22  188.164.238.26   \n",
      "3            4  2022-01-04 16:44:14.031386  192.168.0.22  188.164.238.26   \n",
      "4            5  2022-01-04 16:44:14.035643  192.168.0.22  188.164.238.26   \n",
      "...        ...                         ...           ...             ...   \n",
      "226803  226804  2022-01-05 16:44:05.641075  192.168.0.22  188.164.238.26   \n",
      "226804  226805  2022-01-05 16:44:05.660090  192.168.0.22  188.164.238.26   \n",
      "226805  226806  2022-01-05 16:44:05.677264  192.168.0.22  188.164.238.26   \n",
      "226806  226807  2022-01-05 16:44:05.700215  192.168.0.22  188.164.238.26   \n",
      "226807  226808  2022-01-05 16:44:05.701142  192.168.0.22  188.164.238.26   \n",
      "\n",
      "       Protocol  Length                                               Info  \n",
      "0           TCP      54  60967  >  443 [FIN, ACK] Seq=1 Ack=1 Win=5744 ...  \n",
      "1           TCP      54     60967  >  443 [ACK] Seq=2 Ack=2 Win=5743 Len=0  \n",
      "2           TCP      58  54623  >  443 [SYN] Seq=0 Win=5744 Len=0 MSS=1436  \n",
      "3           TCP      54     54623  >  443 [ACK] Seq=1 Ack=1 Win=5744 Len=0  \n",
      "4       TLSv1.2     353                                       Client Hello  \n",
      "...         ...     ...                                                ...  \n",
      "226803      TCP      54  63692  >  443 [ACK] Seq=640 Ack=14862 Win=3084...  \n",
      "226804      TCP      54  63692  >  443 [ACK] Seq=640 Ack=17522 Win=424 ...  \n",
      "226805      TCP      54  [TCP Window Update] 63692  >  443 [ACK] Seq=64...  \n",
      "226806      TCP      54  63692  >  443 [ACK] Seq=640 Ack=19363 Win=3903...  \n",
      "226807      TCP      54  [TCP Window Update] 63692  >  443 [ACK] Seq=64...  \n",
      "\n",
      "[226808 rows x 7 columns]\n",
      "           No.                        Time        Source     Destination  \\\n",
      "0            1  2022-01-04 16:44:06.405328  192.168.0.22  188.164.238.26   \n",
      "1            2  2022-01-04 16:44:06.418960  192.168.0.22  188.164.238.26   \n",
      "2            3  2022-01-04 16:44:14.010838  192.168.0.22  188.164.238.26   \n",
      "3            4  2022-01-04 16:44:14.031386  192.168.0.22  188.164.238.26   \n",
      "4            5  2022-01-04 16:44:14.035643  192.168.0.22  188.164.238.26   \n",
      "...        ...                         ...           ...             ...   \n",
      "226803  226804  2022-01-05 16:44:05.641075  192.168.0.22  188.164.238.26   \n",
      "226804  226805  2022-01-05 16:44:05.660090  192.168.0.22  188.164.238.26   \n",
      "226805  226806  2022-01-05 16:44:05.677264  192.168.0.22  188.164.238.26   \n",
      "226806  226807  2022-01-05 16:44:05.700215  192.168.0.22  188.164.238.26   \n",
      "226807  226808  2022-01-05 16:44:05.701142  192.168.0.22  188.164.238.26   \n",
      "\n",
      "       Protocol  Length                                               Info  \n",
      "0           TCP      54  60967  >  443 [FIN, ACK] Seq=1 Ack=1 Win=5744 ...  \n",
      "1           TCP      54     60967  >  443 [ACK] Seq=2 Ack=2 Win=5743 Len=0  \n",
      "2           TCP      58  54623  >  443 [SYN] Seq=0 Win=5744 Len=0 MSS=1436  \n",
      "3           TCP      54     54623  >  443 [ACK] Seq=1 Ack=1 Win=5744 Len=0  \n",
      "4       TLSv1.2     353                                       Client Hello  \n",
      "...         ...     ...                                                ...  \n",
      "226803      TCP      54  63692  >  443 [ACK] Seq=640 Ack=14862 Win=3084...  \n",
      "226804      TCP      54  63692  >  443 [ACK] Seq=640 Ack=17522 Win=424 ...  \n",
      "226805      TCP      54  [TCP Window Update] 63692  >  443 [ACK] Seq=64...  \n",
      "226806      TCP      54  63692  >  443 [ACK] Seq=640 Ack=19363 Win=3903...  \n",
      "226807      TCP      54  [TCP Window Update] 63692  >  443 [ACK] Seq=64...  \n",
      "\n",
      "[226808 rows x 7 columns]\n"
     ]
    }
   ],
   "source": [
    "#df = pd.read_csv(\"data/21-12-23_complete.csv\")\n",
    "data_folder = \"/Users/Fabian/Desktop/\"\n",
    "df = pd.read_csv(data_folder + \"test.csv\")\n",
    "#df = pd.read_csv(\"data/2022-01-04_complete.csv\")\n",
    "print(df)\n",
    "print(df)\n",
    "# ['No.', 'Time', 'Source', 'Destination', 'Protocol', 'Length', 'Info', 'dst port']\n"
   ]
  },
  {
   "cell_type": "code",
   "execution_count": 3,
   "metadata": {
    "pycharm": {
     "name": "#%%\n"
    }
   },
   "outputs": [
    {
     "data": {
      "text/plain": [
       "1641311046"
      ]
     },
     "execution_count": 3,
     "metadata": {},
     "output_type": "execute_result"
    }
   ],
   "source": [
    "# helper functions\n",
    "def utcEntryToTimestamp(entry):\n",
    "    row_entry = entry.split(\".\")[0]\n",
    "    TIME_FORMAT='%Y-%m-%d %H:%M:%S'\n",
    "    ts = int(datetime.strptime(row_entry, TIME_FORMAT).timestamp())\n",
    "    return ts\n",
    "\n",
    "def utcRowToTimestamp(row):\n",
    "    return utcEntryToTimestamp(row.at['Time'])\n",
    "utcRowToTimestamp(df.loc[0])\n",
    "# print(df.loc[0].at['Time'])"
   ]
  },
  {
   "cell_type": "markdown",
   "metadata": {},
   "source": [
    "### Protocol packet distribution ###"
   ]
  },
  {
   "cell_type": "code",
   "execution_count": 4,
   "metadata": {
    "pycharm": {
     "name": "#%%\n"
    }
   },
   "outputs": [
    {
     "name": "stdout",
     "output_type": "stream",
     "text": [
      "Protocol\n",
      "DNS            1385\n",
      "HTTP            482\n",
      "HTTP/JSON       580\n",
      "TCP          172660\n",
      "TLSv1             8\n",
      "TLSv1.2       51693\n",
      "Name: Source, dtype: int64\n"
     ]
    },
    {
     "name": "stderr",
     "output_type": "stream",
     "text": [
      "/var/folders/px/zjht8g6j4bvglsnf70rp41d80000gn/T/ipykernel_85775/1857181538.py:8: UserWarning: Matplotlib is currently using module://matplotlib_inline.backend_inline, which is a non-GUI backend, so cannot show the figure.\n",
      "  fig.show()\n"
     ]
    },
    {
     "data": {
      "image/png": "[encoded data removed]",
      "text/plain": [
       "<Figure size 432x288 with 1 Axes>"
      ]
     },
     "metadata": {},
     "output_type": "display_data"
    }
   ],
   "source": [
    "print(df.groupby('Protocol').Source.count())\n",
    "\n",
    "count_protocol_packets = df.groupby('Protocol').Source.count()\n",
    "\n",
    "fig, ax = plt.subplots()\n",
    "plt.title('Protocol Distribution by Amount of Packets')\n",
    "ax.pie(count_protocol_packets, labels=count_protocol_packets.keys(), autopct='%1.1f%%',)\n",
    "fig.show()"
   ]
  },
  {
   "cell_type": "markdown",
   "metadata": {},
   "source": [
    "### Amount of data traffic per protocol ###"
   ]
  },
  {
   "cell_type": "code",
   "execution_count": 5,
   "metadata": {
    "pycharm": {
     "name": "#%%\n"
    }
   },
   "outputs": [
    {
     "name": "stdout",
     "output_type": "stream",
     "text": [
      "Protocol\n",
      "DNS            132349\n",
      "HTTP           103953\n",
      "HTTP/JSON      280055\n",
      "TCP           9583876\n",
      "TLSv1            1592\n",
      "TLSv1.2      10109785\n",
      "Name: Length, dtype: int64\n"
     ]
    },
    {
     "name": "stderr",
     "output_type": "stream",
     "text": [
      "/var/folders/px/zjht8g6j4bvglsnf70rp41d80000gn/T/ipykernel_85775/3895533642.py:6: UserWarning: Matplotlib is currently using module://matplotlib_inline.backend_inline, which is a non-GUI backend, so cannot show the figure.\n",
      "  fig.show()\n"
     ]
    },
    {
     "data": {
      "image/png": "[encoded data removed]",
      "text/plain": [
       "<Figure size 432x288 with 1 Axes>"
      ]
     },
     "metadata": {},
     "output_type": "display_data"
    }
   ],
   "source": [
    "count_protocol_traffic = df.groupby('Protocol').Length.sum()\n",
    "print(count_protocol_traffic)\n",
    "fig, ax = plt.subplots()\n",
    "plt.title('Protocol Distribution by Data Traffic')\n",
    "ax.pie(count_protocol_traffic, labels=count_protocol_traffic.keys(), autopct='%1.1f%%',)\n",
    "fig.show()"
   ]
  },
  {
   "cell_type": "markdown",
   "metadata": {},
   "source": [
    "### Average Data length per Protocol Type ###"
   ]
  },
  {
   "cell_type": "code",
   "execution_count": 6,
   "metadata": {
    "pycharm": {
     "name": "#%%\n"
    }
   },
   "outputs": [
    {
     "name": "stdout",
     "output_type": "stream",
     "text": [
      "Protocol\n",
      "DNS           95.558845\n",
      "HTTP         215.670124\n",
      "HTTP/JSON    482.853448\n",
      "TCP           55.507216\n",
      "TLSv1        199.000000\n",
      "TLSv1.2      195.573579\n",
      "Name: Length, dtype: float64\n"
     ]
    },
    {
     "name": "stderr",
     "output_type": "stream",
     "text": [
      "/var/folders/px/zjht8g6j4bvglsnf70rp41d80000gn/T/ipykernel_85775/212732153.py:11: UserWarning: Matplotlib is currently using module://matplotlib_inline.backend_inline, which is a non-GUI backend, so cannot show the figure.\n",
      "  fig.show()\n"
     ]
    },
    {
     "data": {
      "image/png": "[encoded data removed]",
      "text/plain": [
       "<Figure size 432x288 with 1 Axes>"
      ]
     },
     "metadata": {},
     "output_type": "display_data"
    }
   ],
   "source": [
    "average_protocol_packet_length = df.groupby('Protocol').Length.sum() / df.groupby('Protocol').Length.count()\n",
    "print(average_protocol_packet_length)\n",
    "fig, ax = plt.subplots()\n",
    "ax.tick_params(axis='x', which='major', labelsize=12)\n",
    "ax.tick_params(axis='x', which='minor', labelsize=12)\n",
    "plt.xlabel('Protocol')\n",
    "plt.ylabel('Data [Byte]')\n",
    "plt.title('Average Data Length per Protocol Type')\n",
    "ax.bar(average_protocol_packet_length.keys(), average_protocol_packet_length, align='center',)\n",
    "plt.xticks(rotation=60, ha=\"right\")\n",
    "fig.show()"
   ]
  },
  {
   "cell_type": "markdown",
   "metadata": {},
   "source": [
    "### Source addresses ###"
   ]
  },
  {
   "cell_type": "code",
   "execution_count": 7,
   "metadata": {
    "pycharm": {
     "name": "#%%\n"
    }
   },
   "outputs": [
    {
     "name": "stdout",
     "output_type": "stream",
     "text": [
      "Source\n",
      "192.168.0.1         682\n",
      "192.168.0.121     25202\n",
      "192.168.0.2          28\n",
      "192.168.0.200      2891\n",
      "192.168.0.22     196379\n",
      "192.168.0.88         54\n",
      "192.168.0.9        1572\n",
      "Name: Time, dtype: int64\n",
      "Destination\n",
      "88.221.139.67          8\n",
      "192.168.0.9            8\n",
      "54.220.43.22          12\n",
      "54.216.189.126        12\n",
      "52.209.43.253         12\n",
      "81.169.210.193        13\n",
      "92.122.24.124         15\n",
      "34.250.121.83         22\n",
      "192.168.0.22          25\n",
      "192.168.0.2           25\n",
      "104.121.176.87        26\n",
      "192.168.0.88          54\n",
      "192.168.0.1          703\n",
      "34.245.145.101      1457\n",
      "85.214.250.60       3198\n",
      "192.168.0.121       3461\n",
      "85.214.67.97        3603\n",
      "81.169.180.11       8788\n",
      "85.214.202.106      9014\n",
      "188.164.238.26    196352\n",
      "Name: Time, dtype: int64\n"
     ]
    }
   ],
   "source": [
    "print(df.groupby('Source').Time.count())\n",
    "print(df.groupby('Destination').Time.count().sort_values())"
   ]
  },
  {
   "cell_type": "markdown",
   "metadata": {},
   "source": [
    "### DNS requests ###"
   ]
  },
  {
   "cell_type": "code",
   "execution_count": 8,
   "metadata": {
    "pycharm": {
     "name": "#%%\n"
    }
   },
   "outputs": [
    {
     "name": "stdout",
     "output_type": "stream",
     "text": [
      "server.chillibits.com               528\n",
      "pool.ntp.org                         54\n",
      "0.debian.pool.ntp.org                54\n",
      "0.pool.ntp.org                       24\n",
      "api.sensor.community                 17\n",
      "api-rrd.madavi.de                    15\n",
      "msmetrics.ws.sonos.com                3\n",
      "firmware.sensor.community             2\n",
      "update-timezone.sonos.com             1\n",
      "service-catalog.ws.sonos.com          1\n",
      "update.sonos.com                      1\n",
      "update-firmware.sonos.com             1\n",
      "www.mvg.de                            1\n",
      "feature-config.sslauth.sonos.com      1\n",
      "Name: Info, dtype: int64\n"
     ]
    }
   ],
   "source": [
    "df_dns = df[df['Protocol'].isin(['DNS'])]\n",
    "df_dns.head()\n",
    "df_dns_requests_1 = df_dns[df_dns['Info'].str.contains('Standard query')]\n",
    "# does not contain response\n",
    "df_dns_requests_2 = df_dns_requests_1[~df_dns_requests_1['Info'].str.contains('response')]\n",
    "df_dns_resources = df_dns_requests_2['Info'].apply(lambda x: x.split(' ')[-1]).value_counts()\n",
    "print(df_dns_resources)\n",
    "# print(df_dns_requests)\n",
    "# print(df_dns['Info'])\n"
   ]
  },
  {
   "cell_type": "markdown",
   "metadata": {},
   "source": [
    "### IP Wordlwide location"
   ]
  },
  {
   "cell_type": "code",
   "execution_count": 25,
   "metadata": {},
   "outputs": [
    {
     "name": "stdout",
     "output_type": "stream",
     "text": [
      "{'status': 'success', 'description': 'Data successfully received.', 'data': {'geo': {'host': '188.164.238.26', 'ip': '188.164.238.26', 'rdns': '188.164.238.26', 'asn': 198145, 'isp': 'SWM Services GmbH', 'country_name': 'Germany', 'country_code': 'DE', 'region_name': 'Bavaria', 'region_code': 'BY', 'city': 'Munich', 'postal_code': '80331', 'continent_name': 'Europe', 'continent_code': 'EU', 'latitude': 48.1336, 'longitude': 11.5658, 'metro_code': None, 'timezone': 'Europe/Berlin', 'datetime': '2022-01-16 17:58:08'}}}\n",
      "{'status': 'success', 'description': 'Data successfully received.', 'data': {'geo': {'host': '34.245.145.101', 'ip': '34.245.145.101', 'rdns': 'ec2-34-245-145-101.eu-west-1.compute.amazonaws.com', 'asn': 16509, 'isp': 'AMAZON-02', 'country_name': 'Ireland', 'country_code': 'IE', 'region_name': 'Leinster', 'region_code': 'L', 'city': 'Dublin', 'postal_code': 'D02', 'continent_name': 'Europe', 'continent_code': 'EU', 'latitude': 53.3382, 'longitude': -6.2591, 'metro_code': None, 'timezone': 'Europe/Dublin', 'datetime': '2022-01-16 17:00:56'}}}\n",
      "{'status': 'success', 'description': 'Data successfully received.', 'data': {'geo': {'host': '81.169.180.11', 'ip': '81.169.180.11', 'rdns': 'databases.madavi.de', 'asn': 6724, 'isp': 'Strato AG', 'country_name': 'Germany', 'country_code': 'DE', 'region_name': None, 'region_code': None, 'city': None, 'postal_code': None, 'continent_name': 'Europe', 'continent_code': 'EU', 'latitude': 51.2993, 'longitude': 9.491, 'metro_code': None, 'timezone': 'Europe/Berlin', 'datetime': '2022-01-16 18:00:57'}}}\n",
      "{'status': 'success', 'description': 'Data successfully received.', 'data': {'geo': {'host': '85.214.202.106', 'ip': '85.214.202.106', 'rdns': 'srv13.sensor.community', 'asn': 6724, 'isp': 'Strato AG', 'country_name': 'Germany', 'country_code': 'DE', 'region_name': None, 'region_code': None, 'city': None, 'postal_code': None, 'continent_name': 'Europe', 'continent_code': 'EU', 'latitude': 51.2993, 'longitude': 9.491, 'metro_code': None, 'timezone': 'Europe/Berlin', 'datetime': '2022-01-16 18:00:57'}}}\n",
      "{'status': 'success', 'description': 'Data successfully received.', 'data': {'geo': {'host': '85.214.250.60', 'ip': '85.214.250.60', 'rdns': 'h2801469.stratoserver.net', 'asn': 6724, 'isp': 'Strato AG', 'country_name': 'Germany', 'country_code': 'DE', 'region_name': None, 'region_code': None, 'city': None, 'postal_code': None, 'continent_name': 'Europe', 'continent_code': 'EU', 'latitude': 51.2993, 'longitude': 9.491, 'metro_code': None, 'timezone': 'Europe/Berlin', 'datetime': '2022-01-16 18:00:58'}}}\n"
     ]
    }
   ],
   "source": [
    "df_destinations =  df['Destination'].unique()\n",
    "\n",
    "for dest in df_destinations[:10]: # 10 entries limit for now\n",
    "    if dest.startswith(\"192.168\"):\n",
    "            continue\n",
    "    headers = { 'User-Agent': \"keycdn-tools:https://www.example.com\" }\n",
    "    url = \"https://tools.keycdn.com/geo.json?host={}\".format(dest)\n",
    "    r = requests.get(url, headers=headers)\n",
    "    print(r.json() )  \n"
   ]
  },
  {
   "cell_type": "markdown",
   "metadata": {},
   "source": [
    "### Data traffic over time ###"
   ]
  },
  {
   "cell_type": "code",
   "execution_count": null,
   "metadata": {
    "pycharm": {
     "name": "#%%\n"
    }
   },
   "outputs": [],
   "source": [
    "def timeMapping(x):\n",
    "    # include time difference UTC+1\n",
    "    time = datetime.utcfromtimestamp(x*min_15_duration + 3600)\n",
    "    if time.minute == 0 and time.hour % 3 == 0:\n",
    "        return time.strftime(\"%H:%M\")\n",
    "    else:\n",
    "        return \"\"\n",
    "\n",
    "# find first and last timestamp, then create data structure\n",
    "min_15_duration = 60 * 15\n",
    "df_time_mod = df.copy()\n",
    "df_time_mod['Time'] = df_time_mod['Time'].apply(lambda x: utcEntryToTimestamp(x)) # map to 15 min window\n",
    "df_time_mod.head()\n",
    "first_entry = df_time_mod.loc[0].at['Time'] // min_15_duration\n",
    "last_entry = df_time_mod.iloc[-1].at['Time'] // min_15_duration\n",
    "\n",
    "print('from ', df_time_mod.loc[0].at['Time'], \" to \", df_time_mod.iloc[-1].at['Time'])\n",
    "\n",
    "count_packets = np.zeros(last_entry - first_entry + 1)\n",
    "length_packets = np.zeros(last_entry - first_entry + 1)\n",
    "\n",
    "x_values_packets = list(range(first_entry, last_entry + 1))\n",
    "print(len(x_values_packets))\n",
    "\n",
    "mapping_res = list(map(timeMapping, x_values_packets))\n",
    "\n",
    "# print(mapping_res)\n",
    "\n",
    "for index, row in df_time_mod.iterrows():\n",
    "    ts = row.at['Time'] // min_15_duration\n",
    "    count_packets[ts - first_entry] += 1\n",
    "    length_packets[ts - first_entry] += row.at['Length']\n",
    "\n",
    "length_packets = length_packets // 1000\n",
    "print(count_packets)\n",
    "print(length_packets)\n",
    "\n",
    "fig, ax = plt.subplots()\n",
    "plt.xlabel('Time')\n",
    "plt.ylabel('Packets')\n",
    "plt.title('Packets per timeframe (15 min interval)')\n",
    "plt.xticks(x_values_packets, mapping_res)\n",
    "ax.bar(x_values_packets, count_packets, color='black')\n",
    "fig.show()\n",
    "\n",
    "fig, ax = plt.subplots()\n",
    "plt.xlabel('Time')\n",
    "plt.ylabel('Data [kB]')\n",
    "plt.title('Data traffic per timeframe (15 min interval)')\n",
    "plt.xticks(x_values_packets, mapping_res)\n",
    "ax.bar(x_values_packets, length_packets, color='black')\n",
    "fig.show()"
   ]
  },
  {
   "cell_type": "code",
   "execution_count": null,
   "metadata": {
    "pycharm": {
     "name": "#%%\n"
    }
   },
   "outputs": [],
   "source": []
  }
 ],
 "metadata": {
  "kernelspec": {
   "display_name": "Python 3 (ipykernel)",
   "language": "python",
   "name": "python3"
  },
  "language_info": {
   "codemirror_mode": {
    "name": "ipython",
    "version": 3
   },
   "file_extension": ".py",
   "mimetype": "text/x-python",
   "name": "python",
   "nbconvert_exporter": "python",
   "pygments_lexer": "ipython3",
   "version": "3.10.1"
  }
 },
 "nbformat": 4,
 "nbformat_minor": 1
}
