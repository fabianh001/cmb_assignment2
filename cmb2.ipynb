{
 "cells": [
  {
   "cell_type": "markdown",
   "metadata": {},
   "source": [
    "# Investigating the Network"
   ]
  },
  {
   "cell_type": "markdown",
   "metadata": {},
   "source": [
    "## Intro / Goal\n",
    "\n",
    "## Setup\n",
    "\n",
    "## Device Mapping\n",
    "\n",
    "| IP                                    | Sven's Device | Maxi's Device | Fabi's Devices                         |\n",
    "| ------------------------------------- | ------------- | ------------- | -------------------------------------- |\n",
    "| 192.168.178.1                         | Router        |               |                                        |\n",
    "| 192.168.178.21                        |               | Android Phone |                                        |\n",
    "| 192.168.178.24                        | Google Home   |               |                                        |\n",
    "| 192.168.178.26                        | Chromecast    |               |                                        |\n",
    "| 192.168.178.27                        | Google Home   |               |                                        |\n",
    "| 192.168.178.29                        | Google Home   |               |                                        |\n",
    "| 192.168.178.42                        | Google Home   |               |                                        |\n",
    "| 192.168.178.43                        | SmartTV       |               |                                        |\n",
    "| 192.168.178.44                        | Android Phone |               |                                        |\n",
    "| 192.168.178.50                        | iPad          |               |                                        |\n",
    "| 192.168.178.51                        | MacBook       |               |                                        |\n",
    "| 192.168.178.58                        | Vacuum Robot  |               |                                        |\n",
    "| 192.168.178.59                        |               | Notebook      |                                        |\n",
    "| 192.168.178.60                        | MacBook       |               |                                        |\n",
    "| 192.168.178.62                        | iPhone        |               |                                        |\n",
    "| 192.168.178.64                        | SmartTV       |               |                                        |\n",
    "| 2003:c1:3712:ac00:e9ad:724d:142a:c5c9 |               | Smartphone    |                                        |\n",
    "| 2003:c1:3712:ac00:38ee:9c51:e7ee:fe52 |               | Notebook      |                                        |\n",
    "| 192.168.0.1                           |               |               | Router                                 |\n",
    "| 192.168.0.2                           |               |               | Wifi Smart Plug                        |\n",
    "| 192.168.0.8                           |               |               | Amazon Fire TV                         |\n",
    "| 192.168.0.9                           |               |               | Sonos Wifi Loudspeaker                 |\n",
    "| 192.168.0.14                          |               |               | iPad                                   |\n",
    "| 192.168.0.22                          |               |               | ESP32 Microcontroller                  |\n",
    "| 192.168.0.88                          |               |               | Raspberry Pi used for network sniffing |\n",
    "| 192.168.0.121                         |               |               | ESP32 with Feinstaubsensor firmware    |\n"
   ]
  },
  {
   "cell_type": "code",
   "execution_count": null,
   "metadata": {
    "pycharm": {
     "name": "#%%\n"
    }
   },
   "outputs": [],
   "source": [
    "# mapping for later sections\n",
    "#devices_labels = ['Router (Sven)', 'Google Home (Sven)', 'Chromecast (Sven)', 'Smart TV (Sven)', 'Android Phone (Sven)', 'iPad (Sven)', 'MacBook (Sven)', 'Vacuum Robot (Sven)', 'iPhone (Sven)',\n",
    "#                  'Android Phone (Maxi)', 'Notebook (Maxi)',]\n",
    "# no router traffic is analyzed due to potential issues caused by device <--> router communication\n",
    "# '192.168.178.1': 'Router (Sven)',\n",
    "devices_mapping = {\n",
    "                    '192.168.178.21': 'Android Phone (Maxi)',\n",
    "                    '192.168.178.24': 'Google Home (Sven)',\n",
    "                    '192.168.178.26': 'Chromecast (Sven)',\n",
    "                    '192.168.178.27': 'Google Home (Sven)',\n",
    "                    '192.168.178.29': 'Google Home (Sven)',\n",
    "                    '192.168.178.42': 'Google Home (Sven)',\n",
    "                    '192.168.178.43': 'Smart TV (Sven)',\n",
    "                    '192.168.178.44': 'Android Phone (Sven)',\n",
    "                    '192.168.178.50': 'iPad (Sven)',\n",
    "                    '192.168.178.51': 'MacBook (Sven)',\n",
    "                    '192.168.178.58': 'Vacuum Robot (Sven)',\n",
    "                    '192.168.178.59': 'Notebook (Maxi)',\n",
    "                    '192.168.178.60': 'MacBook (Sven)',\n",
    "                    '192.168.178.62': 'iPhone (Sven)',\n",
    "                    '192.168.178.64': 'Smart TV (Sven)',\n",
    "                    '2003:c1:3712:ac00:e9ad:724d:142a:c5c9': 'Android Phone (Maxi)',\n",
    "                    '2003:c1:3712:ac00:38ee:9c51:e7ee:fe52': 'Notebook (Maxi)',\n",
    "                    '192.168.0.2':    \"Wifi Smart Plug (Fabi)\",\n",
    "                    '192.168.0.8':    \"Amazon Fire TV (Fabi)\",\n",
    "                    '192.168.0.9':    \"Sonos Wifi Loudspeaker (Fabi)\",\n",
    "                    '192.168.0.14':   \"iPad (Fabi)\",\n",
    "                    '192.168.0.22':   \"ESP32 Microcontroller (Fabi)\",\n",
    "                    '192.168.0.88':   \"Raspberry Pi used for network sniffing (Fabi)\",\n",
    "                    '192.168.0.121':  \"ESP32 with Feinstaubsensor firmware (Fabi)\",\n",
    "}\n",
    "\n",
    "devices_labels = list(set(devices_mapping.values()))"
   ]
  },
  {
   "cell_type": "markdown",
   "metadata": {},
   "source": [
    "Start of the program"
   ]
  },
  {
   "cell_type": "code",
   "execution_count": null,
   "metadata": {},
   "outputs": [],
   "source": [
    "# Program, run imports\n",
    "%matplotlib inline\n",
    "import pandas as pd\n",
    "import geopandas as gpd\n",
    "import matplotlib.pyplot as plt\n",
    "from datetime import datetime\n",
    "import numpy as np\n",
    "import time\n",
    "import seaborn as sns\n",
    "import requests\n",
    "sns.set(style=\"darkgrid\")\n",
    "\n",
    "# used to skip merging and filtering\n",
    "new_read = False"
   ]
  },
  {
   "cell_type": "markdown",
   "metadata": {},
   "source": [
    "Create Pandas Dataframe"
   ]
  },
  {
   "cell_type": "code",
   "execution_count": null,
   "metadata": {
    "pycharm": {
     "name": "#%%\n"
    }
   },
   "outputs": [],
   "source": [
    "if new_read:\n",
    "    print('Concatenate csv files...')\n",
    "    df_fabi = pd.read_csv(\"dumps/allPorts_fabian.csv\", encoding = \"latin\")\n",
    "    df_maxi = pd.read_csv(\"dumps/allPorts_maxi_v2.csv\", encoding = \"latin\")\n",
    "    df_sven = pd.read_csv(\"dumps/advanced-dumps-sven.csv\", encoding = \"latin\")\n",
    "    df = pd.concat([df_fabi, df_maxi, df_sven])\n",
    "    print('Concatenate operation completed')\n",
    "    print(len(df))"
   ]
  },
  {
   "cell_type": "markdown",
   "metadata": {},
   "source": [
    "Filter Local Traffic\n",
    "\n",
    "Print total number of captured packages"
   ]
  },
  {
   "cell_type": "code",
   "execution_count": null,
   "metadata": {},
   "outputs": [],
   "source": [
    "if new_read:\n",
    "    time_filter_start = time.time()\n",
    "    print('Compute intensive task filter started...')\n",
    "    # source and destination should not start with 192.168 to filter local network. DNS should not be filtered.\n",
    "    filtered = df.loc[~df['Source'].str.startswith(\"192.168\", na=False) & df['Destination'].str.startswith(\"192.168\", na=False) |\n",
    "                    df['Source'].str.startswith(\"192.168\", na=False) & ~df['Destination'].str.startswith(\"192.168\", na=False) |\n",
    "                    df['Protocol'].isin(['DNS'])]\n",
    "\n",
    "    filtered = filtered.loc[~filtered['Protocol'].isin(['DHCP', 'ARP', 'MDNS', 'LLDP', 'SSDP', 'IGMP', 'IGMPv2', 'IGMPv3', 'ICMP', 'ICMPv4', 'ICMPv6', 'ieee1905', 'LLMNR'])]\n",
    "    filtered = filtered.loc[~filtered['Destination'].isin(['255.255.255.255'])]\n",
    "\n",
    "\n",
    "    df = filtered \n",
    "\n",
    "    # sort array by timestamp\n",
    "\n",
    "    df = df.sort_values(by=['Time'])\n",
    "    # save to csv\n",
    "    # df.to_csv('df.csv')\n",
    "    # print (df.loc[df['Destination'].str.contains(\"255.255.255.255\")])\n",
    "    time_filter_duration = time.time() - time_filter_start\n",
    "    print('Task filter completed in ', time_filter_duration, ' seconds')\n",
    "else:\n",
    "    df = pd.read_csv('df.csv')\n"
   ]
  },
  {
   "cell_type": "markdown",
   "metadata": {},
   "source": [
    "add a new device coulmn 'Device Name' for better readability"
   ]
  },
  {
   "cell_type": "code",
   "execution_count": null,
   "metadata": {},
   "outputs": [],
   "source": [
    "if not 'Device Name' in df.columns:\n",
    "    new_read = True # save df later\n",
    "    time_device_name_calc_start = time.time()\n",
    "    print('Compute Device Name column...')\n",
    "    #df_devices = pd.DataFrame({'Source': devices_mapping.keys(), 'Device Name': devices_mapping.values()})\n",
    "    # df = df.merge(df_devices, on='Source', how='left')\n",
    "    # Apply Device Name to incoming and outgoing packets\n",
    "    df.loc[df['Source'].isin(devices_mapping.keys()), 'Device Name'] = df.loc[df['Source'].isin(devices_mapping.keys())].Source.apply(lambda x : devices_mapping[x])\n",
    "    df.loc[df['Destination'].isin(devices_mapping.keys()), 'Device Name'] = df.loc[df['Destination'].isin(devices_mapping.keys())].Destination.apply(lambda x : devices_mapping[x])\n",
    "    time_device_name_calc_duration = time.time() - time_device_name_calc_start\n",
    "    print('Compute Device Name column completed in ', time_device_name_calc_duration, ' in seconds')\n",
    "    print(df.head(10))"
   ]
  },
  {
   "cell_type": "code",
   "execution_count": null,
   "metadata": {
    "pycharm": {
     "name": "#%%\n"
    }
   },
   "outputs": [],
   "source": [
    "# helper functions\n",
    "def utcEntryToTimestamp(entry):\n",
    "    #if '.' in entry:\n",
    "    row_entry = entry.split(\".\")[0]\n",
    "    #else:\n",
    "    #    row_entry = entry.split(\",\")[0]\n",
    "    TIME_FORMAT='%Y-%m-%d %H:%M:%S'\n",
    "    ts = int(datetime.strptime(row_entry, TIME_FORMAT).timestamp())\n",
    "    return ts\n",
    "\n",
    "def utcRowToTimestamp(row):\n",
    "    return utcEntryToTimestamp(row.at['Time'])\n",
    "utcRowToTimestamp(df.iloc[0])\n",
    "# print(df.loc[0].at['Time'])\n"
   ]
  },
  {
   "cell_type": "code",
   "execution_count": null,
   "metadata": {
    "pycharm": {
     "name": "#%%\n"
    }
   },
   "outputs": [],
   "source": [
    "min_15_duration = 60 * 15\n",
    "# add index time column, if it doesn't exist yet\n",
    "if not 'index-time' in df.columns:\n",
    "    time_utc_calc_start = time.time()\n",
    "    print('Compute index-time column (approx. 5min)...')\n",
    "    df['index-time'] = df['Time'].apply(lambda x: utcEntryToTimestamp(x)) # .apply(lambda x: x)) # map to 15 min window\n",
    "    first_entry_offset = df.iloc[0].at['index-time'] // min_15_duration\n",
    "    df['index-time'] = (df['index-time'] // min_15_duration) - first_entry_offset\n",
    "    new_read = True\n",
    "    time_utc_calc_duration = time.time() - time_utc_calc_start\n",
    "    print('index-time column task completed in ', time_utc_calc_duration, ' seconds')"
   ]
  },
  {
   "cell_type": "markdown",
   "metadata": {},
   "source": [
    "Save df to csv / load df from csv"
   ]
  },
  {
   "cell_type": "code",
   "execution_count": null,
   "metadata": {
    "pycharm": {
     "name": "#%%\n"
    }
   },
   "outputs": [],
   "source": [
    "if new_read:\n",
    "    df.to_csv('df.csv')\n",
    "\n",
    "print(df)\n",
    "print(len(df))"
   ]
  },
  {
   "cell_type": "markdown",
   "metadata": {},
   "source": [
    "## Protocols\n",
    "We would like to start our investigations by getting a better insight about the Packet Types were are sending to the web.\n",
    "Several protocols exist for sending data trough the web nowadays. Based on their purpose, these cane be assigned to Application, Transport and Internet layer.\n",
    "- Application layer\n",
    "  - DNS\n",
    "  - SSH\n",
    "  - HTTP\n",
    "  - HTTPS\n",
    "  - ...\n",
    "- Transport Layer\n",
    "  - TCP\n",
    "  - UDP\n",
    "  - QUICK\n",
    "- Internet Layer\n",
    "  - IP (IPv4, IPv6)\n",
    "  - ICMP\n",
    "  - ...   \n",
    "\n",
    "Some of these protocols, such as HTTP, UDP and TCP are quite old. Others, such as the QUICK protocol, were only introduced in the recent years. \n",
    "\n"
   ]
  },
  {
   "cell_type": "markdown",
   "metadata": {},
   "source": [
    "### Protocol Distribution among Frames\n",
    "\n",
    "To get a better overview about all the traffic our devices use the sent and receive data from the Internet, we print out a ranking and plot the data. \\\n",
    "We see that the mayority of our captured frames use **TCP*** as underlying protocol. This is not surprising, since TCP is the most used transport protocol and is almost used for every traffic on the web. \\\n",
    "Surprisingly, we also see **QUICK** in our top 5. QUICK, which was recently standardized in May 2021, seems to be heavily pushed by its creator Google. As you can see from our device list, Google devices claim a large share out of all devices. This might be the reason for its popularity among our captured frames."
   ]
  },
  {
   "cell_type": "code",
   "execution_count": null,
   "metadata": {
    "pycharm": {
     "name": "#%%\n"
    }
   },
   "outputs": [],
   "source": [
    "# rank by most used protocols\n",
    "df_ranked_protocols = df.groupby('Protocol').size()\n",
    "# print(df_ranked_protocols.nlargest(15))\n",
    "print(df_ranked_protocols)\n",
    "\n",
    "# plot pie diagram\n",
    "fig, ax = plt.subplots(figsize=(10,10))\n",
    "plt.title('Protocol Distribution by Amount of Packets')\n",
    "ax.pie(df_ranked_protocols, labels=df_ranked_protocols.keys(), autopct='%1.1f%%')\n",
    "fig.show()"
   ]
  },
  {
   "cell_type": "markdown",
   "metadata": {},
   "source": [
    "### Amount of Data Traffic per Protocol\n",
    "We also had a look in the amount of data traffic that is sent by each protocol. It seemes that this heavily correlates with the protocol distribution among our captured frames. "
   ]
  },
  {
   "cell_type": "code",
   "execution_count": null,
   "metadata": {
    "pycharm": {
     "name": "#%%\n"
    }
   },
   "outputs": [],
   "source": [
    "df_data_per_protocol = df.groupby('Protocol')['Length'].sum()\n",
    "print(df_data_per_protocol.nlargest(15))\n",
    "\n",
    "fig, ax = plt.subplots(figsize=(10,10))\n",
    "plt.title('Protocol Distribution by Data Traffic')\n",
    "ax.pie(df_data_per_protocol, labels=df_data_per_protocol.keys(), autopct='%1.1f%%',)\n",
    "fig.show()"
   ]
  },
  {
   "cell_type": "markdown",
   "metadata": {},
   "source": [
    "### Average Data length per Protocol Type\n",
    "In order to investigate which kind if protocol holds the most data, we compute the mean of each frame per protocol.\n",
    "It seems that especially SSL and SSH have the greatest amount of data per frame. \\\n",
    "Surprisingly, we also some various industrial protocols, such as H1, PKIX-CRL and HART_IP in this ranking. These protocols are especially designed for sending large data packets. We are not very sure what programs on Maxi's laptop and phone are responsible for this and will investigate this further in a later section of this write-up."
   ]
  },
  {
   "cell_type": "code",
   "execution_count": null,
   "metadata": {
    "pycharm": {
     "name": "#%%\n"
    }
   },
   "outputs": [],
   "source": [
    "df_mean_protocol_packet_length = df.groupby('Protocol')['Length'].mean()\n",
    "print(df_mean_protocol_packet_length.nlargest(15))\n",
    "#print (df.loc[df['Protocol'].str.contains(\"HART_IP\")])\n",
    "\n",
    "# plot\n",
    "fig, ax = plt.subplots()\n",
    "ax.tick_params(axis='x', which='major', labelsize=12)\n",
    "ax.tick_params(axis='x', which='minor', labelsize=12)\n",
    "plt.xlabel('Protocol')\n",
    "plt.ylabel('Data [Byte]')\n",
    "plt.title('Mean Data Length per Protocol Type')\n",
    "ax.bar(df_mean_protocol_packet_length.keys(), df_mean_protocol_packet_length, align='center',)\n",
    "plt.xticks(rotation=60, ha=\"right\")\n",
    "fig.show()"
   ]
  },
  {
   "cell_type": "markdown",
   "metadata": {},
   "source": [
    "## Source addresses"
   ]
  },
  {
   "cell_type": "code",
   "execution_count": null,
   "metadata": {
    "pycharm": {
     "name": "#%%\n"
    }
   },
   "outputs": [],
   "source": [
    "df_ranked_sources = df.groupby('Source').size()\n",
    "print(df_ranked_sources.nlargest(25))"
   ]
  },
  {
   "cell_type": "markdown",
   "metadata": {},
   "source": [
    "Local devices with most traffic sent"
   ]
  },
  {
   "cell_type": "code",
   "execution_count": null,
   "metadata": {},
   "outputs": [],
   "source": [
    "print(df.loc[df['Source'].str.startswith(\"192.168\") & df['Source'].isin(devices_mapping.keys())].groupby(['Source', 'Device Name']).size())"
   ]
  },
  {
   "cell_type": "markdown",
   "metadata": {},
   "source": [
    "## Destination Adresses"
   ]
  },
  {
   "cell_type": "code",
   "execution_count": null,
   "metadata": {
    "pycharm": {
     "name": "#%%\n"
    }
   },
   "outputs": [],
   "source": [
    "df_ranked_destinations = df.groupby('Destination').size()\n",
    "print(df_ranked_destinations.nlargest(25))"
   ]
  },
  {
   "cell_type": "code",
   "execution_count": null,
   "metadata": {},
   "outputs": [],
   "source": [
    "# write ip address destinations to file\n",
    "unique_dests = df['Destination'].unique()\n",
    "file1 = open(\"destinations.txt\",\"w\")\n",
    "for row in unique_dests:\n",
    "    file1.write(row + \"\\n\")\n",
    "file1.close()"
   ]
  },
  {
   "cell_type": "markdown",
   "metadata": {},
   "source": [
    "Local devices with most traffic received"
   ]
  },
  {
   "cell_type": "code",
   "execution_count": null,
   "metadata": {},
   "outputs": [],
   "source": [
    "print(df.loc[df['Destination'].str.startswith(\"192.168\")].groupby('Destination').size())"
   ]
  },
  {
   "cell_type": "markdown",
   "metadata": {},
   "source": [
    "### IP Locations World Wide Sources (Incoming Traffic) ###"
   ]
  },
  {
   "cell_type": "code",
   "execution_count": null,
   "metadata": {},
   "outputs": [],
   "source": [
    "rows = []\n",
    "for address, count in df_ranked_sources.nlargest(30).iteritems(): # 30 entries limit \n",
    "    if address.startswith(\"192.168.\"):\n",
    "        continue\n",
    "    headers = { 'User-Agent': \"keycdn-tools:https://www.example.com\" }\n",
    "    url = \"https://tools.keycdn.com/geo.json?host={}\".format(address)\n",
    "    json_response = requests.get(url, headers=headers).json()\n",
    "    # print(json_response)\n",
    "    geo = json_response['data']['geo']\n",
    "    # print(json_response)\n",
    "    # print(geo)\n",
    "    # geo['country_name']\n",
    "    rows.append([geo['ip'], geo['country_code'], geo['longitude'], geo['latitude'], geo['isp']])\n",
    "    \n",
    "# as dataframe\n",
    "df_coord = pd.DataFrame(rows, columns=[\"ip\", \"country\", \"lng\", \"lat\", \"isp\"])\n",
    "print(df_coord)\n",
    "df_coord.to_csv('ipLocations.csv')\n",
    "\n",
    "# plot on world\n",
    "g_world = gpd.GeoDataFrame(df_coord, geometry=gpd.points_from_xy(df_coord.lng, df_coord.lat))\n",
    "\n",
    "world = gpd.read_file(gpd.datasets.get_path('naturalearth_lowres'))\n",
    "base = world.plot(color='white', edgecolor='black')\n",
    "g_world.plot(ax=base, marker='o', color='red', markersize=5)\n",
    "plt.show()"
   ]
  },
  {
   "cell_type": "markdown",
   "metadata": {},
   "source": [
    "### IP Locations World Wide Destinations (Outgoing Traffic) ###"
   ]
  },
  {
   "cell_type": "code",
   "execution_count": null,
   "metadata": {},
   "outputs": [],
   "source": [
    "rows = []\n",
    "for address, count in df_ranked_destinations.nlargest(30).iteritems(): # 30 entries limit \n",
    "    if address.startswith(\"192.168.\"):\n",
    "        continue\n",
    "    headers = { 'User-Agent': \"keycdn-tools:https://www.example.com\" }\n",
    "    url = \"https://tools.keycdn.com/geo.json?host={}\".format(address)\n",
    "    json_response = requests.get(url, headers=headers).json()\n",
    "    #print(json_response)\n",
    "    geo = json_response['data']['geo']\n",
    "    #print(json_response)\n",
    "    #print(geo)\n",
    "    rows.append([geo['ip'], geo['country_code'], geo['longitude'], geo['latitude'], geo['isp']])\n",
    "    \n",
    "# as dataframe\n",
    "df_coord = pd.DataFrame(rows, columns=[\"ip\", \"country\", \"lng\", \"lat\", \"isp\"])\n",
    "print(df_coord)\n",
    "df_coord.to_csv('ipLocations.csv')\n",
    "\n",
    "# plot on world\n",
    "g_world = gpd.GeoDataFrame(df_coord, geometry=gpd.points_from_xy(df_coord.lng, df_coord.lat))\n",
    "\n",
    "world = gpd.read_file(gpd.datasets.get_path('naturalearth_lowres'))\n",
    "base = world.plot(color='white', edgecolor='black')\n",
    "g_world.plot(ax=base, marker='o', color='red', markersize=5)\n",
    "plt.show()"
   ]
  },
  {
   "cell_type": "markdown",
   "metadata": {},
   "source": [
    "## Encryption\n",
    "\n",
    "To look at the percentage of encrypted traffic we will base our analysis solely on the used protocols. The reason behind this is that we were not able to capture the content of the traffic over time due to the memory intensity and therefore cannot look if the content is encrypted or not.\n",
    "\n",
    "To distinguish between packages with encrypt content and packages with non-encrypt content we will only look at the following application layer protocols and divide them between non-encrypt and encrypted:\n",
    "- Encrypted:\n",
    "  - DTLSv1.2\n",
    "  - ISAKMP\n",
    "  - RTCP\n",
    "  - SSH\n",
    "  - SSL\n",
    "  - TLS\n",
    "  - WireGuard\n",
    "\n",
    "- Non-Encrypted:\n",
    "  - DNS\n",
    "  - HTTP\n",
    "  - MP4\n",
    "  - NTP\n",
    "  - OCSP\n",
    "  - SMTP\n",
    "  \n",
    "- Uncategorized:\n",
    "  - CLASSIC-STUN\n",
    "  - HART_IP\n",
    "  - HCrt\n",
    "  - IMAP\n",
    "  - STUN\n",
    "  - XMPP\n",
    "\n",
    "Based on this we get the following encryption distribution:"
   ]
  },
  {
   "cell_type": "code",
   "execution_count": null,
   "metadata": {},
   "outputs": [],
   "source": [
    "filter_protocols = ['ESP', 'GQUIC', 'H1', 'LWAPP', 'MPTCP', 'QUIC', 'TCP', 'THRIFT', 'TURN CHANNEL', 'UDP', 'UDPENCAP']\n",
    "encrypted_application_protocols = ['DTLSv1.2', 'ISAKMP', 'RTCP', 'SSHv2', 'SSH', 'SSL', 'SSLv2', 'SSLv3', 'TLSv1', 'TLSv1.2', 'TLSv1.3', 'WireGuard']\n",
    "non_encrypted_application_protocols = ['DNS', 'HTTP', 'HTTP/JSON', 'HTTP/JSON/XML', 'HTTP/XML', 'MP4', 'NTP', 'OCSP', 'SMTP']\n",
    "uncategorized_application_protocols = ['CLASSIC-STUN', 'HART_IP', 'HCrt', 'IMAP', 'STUN', 'XMPP/XML']\n",
    "\n",
    "only_application_protocols = df.loc[~df['Protocol'].isin(filter_protocols)]\n",
    "only_encrypted_protocols = only_application_protocols.loc[only_application_protocols['Protocol'].isin(encrypted_application_protocols)]\n",
    "only_non_encrypted_protocols = only_application_protocols.loc[only_application_protocols['Protocol'].isin(non_encrypted_application_protocols)]\n",
    "only_uncategorized_protocols = only_application_protocols.loc[only_application_protocols['Protocol'].isin(uncategorized_application_protocols)]\n",
    "\n",
    "content_length_encrypted = only_encrypted_protocols['Length'].sum()\n",
    "content_length_unencrypted = only_non_encrypted_protocols['Length'].sum()\n",
    "content_length_uncategorized = only_uncategorized_protocols['Length'].sum()\n",
    "\n",
    "labels = 'Encrypted', 'Non-Encrypted', 'Uncategorized'\n",
    "fig, ax = plt.subplots(figsize=(10,10))\n",
    "plt.title('Encryption Distribution')\n",
    "ax.pie([content_length_encrypted, content_length_unencrypted, content_length_uncategorized], explode=(0.1, 0, 0), labels=labels, autopct='%1.1f%%',)\n",
    "fig.show()"
   ]
  },
  {
   "cell_type": "markdown",
   "metadata": {},
   "source": [
    "By inspecting the plot it can quickly be seen that the encrypted packages only take up a small portion of the traffic. However, this number can not be taken as an exact value but as an lower bound since packages send with the UDP and TCP protocol take up most of the traffic but could be encrypted as well. Since don't have the content of the packages we cannot further investigate into the encryption of these. But we suspect that the ecryption percentage would be a lot higher."
   ]
  },
  {
   "cell_type": "markdown",
   "metadata": {},
   "source": [
    "## IPv6 vs IPv4"
   ]
  },
  {
   "cell_type": "code",
   "execution_count": null,
   "metadata": {},
   "outputs": [],
   "source": [
    "ether_distribution = df.groupby('EtherType').size()\n",
    "\n",
    "fig, ax = plt.subplots()\n",
    "plt.title('EtherType Distribution')\n",
    "ax.pie(ether_distribution, labels=ether_distribution.keys(), autopct='%1.1f%%',)\n",
    "fig.show()"
   ]
  },
  {
   "cell_type": "markdown",
   "metadata": {},
   "source": [
    "### Which devices are using IPv6?"
   ]
  },
  {
   "cell_type": "code",
   "execution_count": null,
   "metadata": {},
   "outputs": [],
   "source": [
    "ipv6_traffic = df.loc[df['EtherType'].isin(['IPv6'])]\n",
    "\n",
    "print(ipv6_traffic.groupby(['Source']).size().nlargest(15))\n",
    "# print(ipv6_traffic.groupby(['Source', 'Device Name']).size())\n",
    "\n",
    "# TODO find out device names for rest of IP's"
   ]
  },
  {
   "cell_type": "markdown",
   "metadata": {},
   "source": [
    "## DNS \n",
    "\n",
    "We would like to investigate further our collected data. Now, we are particular interested in DNS requests. therefore, we filter the data by the protocol \"DNS\"."
   ]
  },
  {
   "cell_type": "code",
   "execution_count": null,
   "metadata": {
    "pycharm": {
     "name": "#%%\n"
    }
   },
   "outputs": [],
   "source": [
    "df_dns = df[df['Protocol'] == 'DNS']\n",
    "print(df_dns.head(1))"
   ]
  },
  {
   "cell_type": "markdown",
   "metadata": {},
   "source": [
    "### Used DNS Server\n",
    "\n",
    "Various DNS Resolvers exist on the Internet. We would like to find out which our devices are using during their operation. \n",
    "Some devices can be configured to use specif DNS Servers, some a DNS resolver hardcoded in their firmware. In man cases the resolve request is just forwarded to the router, who takes care of this. \n",
    "By grouping our DNS Destinations and counting the requests, we see which resolvers were primarily used."
   ]
  },
  {
   "cell_type": "code",
   "execution_count": null,
   "metadata": {},
   "outputs": [],
   "source": [
    "df_dns_server = df_dns.loc[~df_dns['Info'].str.contains(\"response\")]\n",
    "print(df_dns_server.groupby(['Destination']).size())"
   ]
  },
  {
   "cell_type": "markdown",
   "metadata": {},
   "source": [
    "We see that most of our DNS requests were send to our routers or well known DNS resolvers, such as Google's 8.8.8.8. However, we also found tree unknown DNS resolvers. A print out of these requests reveals that the Feinstaubsensor IoT device is talking to changing DNS Servers to resolve its destinations.\n",
    "The other one seems to be an IPv6 DNS resolver, that is used by our Amazon fire TV to resolve its requests. "
   ]
  },
  {
   "cell_type": "code",
   "execution_count": null,
   "metadata": {},
   "outputs": [],
   "source": [
    "print(df_dns_server.loc[df_dns_server['Destination'].str.contains(\"195.234.128.139\")].head(5))\n",
    "print(df_dns_server.loc[df_dns_server['Destination'].str.contains(\"217.68.162.126\")].head(5))\n",
    "print(df_dns_server.loc[df_dns_server['Destination'].str.contains(\"2a02:2457:10c:101::126\")].head(5))"
   ]
  },
  {
   "cell_type": "markdown",
   "metadata": {},
   "source": [
    "Another great insight is figuring out what URLs are actually being resolved. This can also be used to track a devices browsing behavior. We count the requests by URL to get a better overview. \\\n",
    "An interesting finding is that many of our top resolved URLs are requested by static devices, such as the Feinstaubsensor, Google Home or the Amazon Fire TV stick. \n",
    "\n",
    "Especially on personal computers and mobile devices, a browsing behavior from DNS requests can be found. This includes our love for Reddit. 👨🏽‍🚀"
   ]
  },
  {
   "cell_type": "code",
   "execution_count": null,
   "metadata": {},
   "outputs": [],
   "source": [
    "# only look at standart query dns requests\n",
    "df_dns_requests = df_dns[df_dns['Info'].str.contains('Standard query')]\n",
    "# exclude responses from count\n",
    "df_dns_requests = df_dns_requests[~df_dns_requests['Info'].str.contains('response')]\n",
    "# display URLS\n",
    "df_dns_urls = df_dns_requests['Info'].apply(lambda x: x.split(' ')[-1]).value_counts()\n",
    "print('ns-287.awsdns-35.com' in df_dns_urls.keys())\n",
    "print(df_dns_urls.head(30))"
   ]
  },
  {
   "cell_type": "markdown",
   "metadata": {},
   "source": [
    "### Data traffic over time ###\n",
    "\n",
    "For following sections, we form 15 minute timeframes and assign data traffic to those timeframes."
   ]
  },
  {
   "cell_type": "code",
   "execution_count": null,
   "metadata": {
    "pycharm": {
     "name": "#%%\n"
    }
   },
   "outputs": [],
   "source": [
    "def timeMapping(x):\n",
    "    # apply time difference UTC+1 to labels\n",
    "    time = datetime.utcfromtimestamp(x*min_15_duration + 3600)\n",
    "    if time.minute == 0 and time.hour % 6 == 0:\n",
    "        return time.strftime(\"%H:%M\")\n",
    "    else:\n",
    "        return \"\""
   ]
  },
  {
   "cell_type": "code",
   "execution_count": null,
   "metadata": {
    "pycharm": {
     "name": "#%%\n"
    }
   },
   "outputs": [],
   "source": [
    "\n",
    "\n",
    "\n",
    "\n",
    "first_entry = df.iloc[0].at['index-time']\n",
    "last_entry = df.iloc[-1].at['index-time']\n",
    "\n",
    "print('from ', df.iloc[0].at['Time'], \" to \", df.iloc[-1].at['Time'])\n",
    "\n",
    "x_values_packets = list(range(first_entry, last_entry + 1))\n",
    "print('Amount of Intervals',len(x_values_packets))\n",
    "\n",
    "mapping_res = list(map(timeMapping, x_values_packets))\n"
   ]
  },
  {
   "cell_type": "code",
   "execution_count": null,
   "metadata": {
    "pycharm": {
     "name": "#%%\n"
    }
   },
   "outputs": [],
   "source": [
    "# flag for third computation task\n",
    "values_calculated = False\n",
    "\n",
    "count_packets = np.zeros(last_entry - first_entry + 1)\n",
    "length_packets = np.zeros(last_entry - first_entry + 1)\n",
    "\n",
    "df_dict = None\n"
   ]
  },
  {
   "cell_type": "code",
   "execution_count": null,
   "metadata": {
    "pycharm": {
     "name": "#%%\n"
    }
   },
   "outputs": [],
   "source": [
    "if not values_calculated:\n",
    "    time_start = time.time()\n",
    "    print('Compute packet count and data traffic over time 2/2...')\n",
    "    df_traffic_grouped = df.groupby(['index-time']).Length.sum()\n",
    "    df_packet_grouped = df.groupby(['index-time']).count()\n",
    "\n",
    "    for timeframe, values in df_packet_grouped.iterrows():\n",
    "        # print(ip, timeframe, values['Length'])\n",
    "        # calculate index\n",
    "        count_packets[timeframe] += values['Length']\n",
    "    # break\n",
    "    for timeframe, values in df_traffic_grouped.iteritems():\n",
    "        length_packets[timeframe] += values\n",
    "    length_packets = length_packets // 1000\n",
    "    time_end = time.time()\n",
    "    print(time_end - time_start)"
   ]
  },
  {
   "cell_type": "markdown",
   "metadata": {
    "pycharm": {
     "name": "#%% md\n"
    }
   },
   "source": [
    "# Version 1: aggregate packet length and data traffic\n",
    "if not values_calculated:\n",
    "    values_calculated = True\n",
    "    print('Compute intensive task 3/3...')\n",
    "    print('Task takes approximately 5 to 10 minutes.')\n",
    "    time_start = time.time()\n",
    "    if df_dict is None:\n",
    "        print(\"Convert dataframe to dictionary structure\")\n",
    "        df_dict = df.to_dict('records')\n",
    "        print(\"Conversion completed in \", time.time() - time_start, \"seconds\")\n",
    "    for row in df_dict:\n",
    "        count_packets[row['index-time']] += 1\n",
    "        length_packets[row['index-time']] += row['Length']\n",
    "\n",
    "    # old solution:\n",
    "    #for index, row in df.iterrows():\n",
    "    #    count_packets[row.at['index-time']] += 1\n",
    "    #    length_packets[row.at['index-time']] += row.at['Length']\n",
    "\n",
    "    time_end = time.time()\n",
    "    print(time_end - time_start)\n",
    "\n",
    "    length_packets = length_packets // 1000\n",
    "\n",
    "\n"
   ]
  },
  {
   "cell_type": "code",
   "execution_count": null,
   "metadata": {
    "pycharm": {
     "name": "#%%\n"
    }
   },
   "outputs": [],
   "source": [
    "# print(count_packets)\n",
    "# print(length_packets)\n",
    "plt.rcParams['figure.figsize'] = [20, 5]\n",
    "fig, ax = plt.subplots()\n",
    "plt.xlabel('Time')\n",
    "plt.ylabel('Packets')\n",
    "plt.title('Packets per timeframe (15 min interval)')\n",
    "plt.xticks(x_values_packets, mapping_res)\n",
    "ax.bar(x_values_packets, count_packets, color='black')\n",
    "fig.show()\n",
    "\n",
    "fig, ax = plt.subplots()\n",
    "plt.rcParams['figure.figsize'] = [20, 5]\n",
    "plt.xlabel('Time')\n",
    "plt.ylabel('Data [kB]')\n",
    "plt.title('Data traffic per timeframe (15 min interval)')\n",
    "plt.xticks(x_values_packets, mapping_res)\n",
    "ax.bar(x_values_packets, length_packets, color='black')\n",
    "fig.show()"
   ]
  },
  {
   "cell_type": "markdown",
   "metadata": {},
   "source": [
    "## Device Evaluation ##"
   ]
  },
  {
   "cell_type": "code",
   "execution_count": null,
   "metadata": {
    "pycharm": {
     "name": "#%%\n"
    }
   },
   "outputs": [],
   "source": [
    "# define data structure for device metadata\n",
    "df_device_traffic  = pd.DataFrame() # counts incoming and outgoing data\n",
    "df_device_packets = pd.DataFrame() # counts incoming and outgoing packets\n",
    "df_device_dns = pd.DataFrame() # counts dns requests per device\n",
    "\n",
    "# initialize data structure\n",
    "for name in devices_labels:\n",
    "    count_packets_device = np.zeros(2 * (last_entry - first_entry + 1)) # track incoming and outgoing traffic\n",
    "    length_packets_device = np.zeros(2 * (last_entry - first_entry + 1))\n",
    "    dns_count = np.zeros(df_dns_urls.size)\n",
    "    df_device_packets[name] = count_packets_device\n",
    "    df_device_traffic[name] = length_packets_device\n",
    "    df_device_dns[name] = dns_count"
   ]
  },
  {
   "cell_type": "code",
   "execution_count": null,
   "metadata": {
    "pycharm": {
     "name": "#%%\n"
    }
   },
   "outputs": [],
   "source": [
    "# Version 2\n",
    "# print(devices_mapping.values())\n",
    "# incoming traffic\n",
    "run_device_analysis = True\n",
    "\n",
    "if run_device_analysis:\n",
    "    print('Process incoming and outgoing traffic per device...')\n",
    "    # Outgoing traffic: Device sends traffic\n",
    "    df_device_out = df.loc[(df['Source'].isin(devices_mapping.keys()))]\n",
    "    df_device_out_packets = df_device_out.groupby(['Source', 'index-time']).count()\n",
    "    df_device_out_data = df_device_out.groupby(['Source', 'index-time']).Length.sum()\n",
    "    # Incoming traffic: Device receives packet\n",
    "    df_device_in = df.loc[(df['Destination'].isin(devices_mapping.keys()))]\n",
    "    df_device_in_packets = df_device_in.groupby(['Destination', 'index-time']).count()\n",
    "    df_device_in_data = df_device_in.groupby(['Destination', 'index-time']).Length.sum()\n",
    "\n",
    "    # filter DNS request packets, device must have send request\n",
    "    df_dns_frames = df.loc[df['Source'].isin(devices_mapping.keys()) & (df['Protocol'] == 'DNS') & (df['Info'].str.contains('Standard query'))]\n",
    "    df_dns_frames = df_dns_frames.loc[~df_dns_frames['Info'].str.contains('response')]\n",
    "    # apply map function on all frames\n",
    "    print('Compute dns request apply function...')\n",
    "    df_dns_frames['dns-request'] = df_dns_frames['Info'].apply(lambda x: x.split(\" \")[-1])\n",
    "\n",
    "    # group by device\n",
    "    df_dns_device = df_dns_frames.groupby(['Device Name', 'dns-request']).Length.count().sort_values(ascending=False)\n",
    "# print(df_dns_device)\n",
    "\n",
    "# ip address traffic\n",
    "df_device_ip_dest = df.loc[(df['Source'].isin(devices_mapping.keys()))]\n",
    "df_device_ip_dest = df_device_ip_dest.groupby(['Device Name', 'Destination']).Length.count().sort_values(ascending=False)\n",
    "df_device_ip_dest.head(50)"
   ]
  },
  {
   "cell_type": "code",
   "execution_count": null,
   "metadata": {
    "pycharm": {
     "name": "#%%\n"
    }
   },
   "outputs": [],
   "source": [
    "# transfer processed data to data structures\n",
    "# print(df_device_out_packets)\n",
    "# Process Outgoing traffic\n",
    "for (ip, timeframe), values in df_device_out_packets.iterrows():\n",
    "    # print(ip, timeframe, values['Length'])\n",
    "    # calculate index\n",
    "    index = 2 * timeframe + 1\n",
    "    df_device_packets.loc[index, devices_mapping[ip]] += values['Length']\n",
    "    # break\n",
    "for (ip, timeframe), values in df_device_out_data.iteritems():\n",
    "    index = 2 * timeframe + 1\n",
    "    df_device_traffic.loc[index, devices_mapping[ip]] += values\n",
    "\n",
    "# Process Incoming traffic\n",
    "for (ip, timeframe), values in df_device_in_packets.iterrows():\n",
    "    # print(ip, timeframe, values['Length'])\n",
    "    # calculate index\n",
    "    index = 2 * timeframe\n",
    "    df_device_packets.loc[index, devices_mapping[ip]] += values['Length']\n",
    "    # break\n",
    "for (ip, timeframe), values in df_device_in_data.iteritems():\n",
    "    index = 2 * timeframe\n",
    "    df_device_traffic.loc[index, devices_mapping[ip]] += values\n",
    "\n",
    "# Process DNS requests\n",
    "dns_keys = list(df_dns_urls.keys())\n",
    "for (label, address), values in df_dns_device.iteritems():\n",
    "    index = dns_keys.index(address)\n",
    "    df_device_dns.loc[index, label] += values\n",
    "# print(df_dns_frames, type(df_dns_frames))"
   ]
  },
  {
   "cell_type": "code",
   "execution_count": null,
   "metadata": {
    "pycharm": {
     "name": "#%%\n"
    }
   },
   "outputs": [],
   "source": [
    "# save to csv\n",
    "df_device_traffic.to_csv('df_device_traffic.csv')\n",
    "df_device_packets.to_csv('df_device_packets.csv')\n",
    "df_device_dns.to_csv('df_device_dns.csv')"
   ]
  },
  {
   "cell_type": "markdown",
   "metadata": {},
   "source": [
    "### Traffic by Device ###\n",
    "- Amount traffic per device (bar chart)\n",
    "- Amount packets per device (bar chart)"
   ]
  },
  {
   "cell_type": "code",
   "execution_count": null,
   "metadata": {
    "pycharm": {
     "name": "#%%\n"
    }
   },
   "outputs": [],
   "source": [
    "# for each device, plot a bar that shows the data traffic (incoming and outgoing) and amount of packets\n",
    "# aggregate data\n",
    "df_device_in_total = (df_device_traffic.iloc[::2].agg(['sum']) // 1000).transpose()# even rows, incoming traffic\n",
    "df_device_out_total = (df_device_traffic.iloc[1::2].agg(['sum']) //1000).transpose()# odd rows, outgoing traffic\n",
    "df_device_in_total_num = df_device_in_total['sum'].to_numpy()\n",
    "df_device_out_total_num = df_device_out_total['sum'].to_numpy()\n",
    "\n",
    "df_device_in_packets_total = (df_device_packets.iloc[::2].agg(['sum'])).transpose()# even rows, incoming traffic\n",
    "df_device_out_packets_total = (df_device_packets.iloc[1::2].agg(['sum'])).transpose()# odd rows, outgoing traffic\n",
    "df_device_in_packets_total_num = df_device_in_packets_total['sum'].to_numpy()\n",
    "df_device_out_packets_total_num = df_device_out_packets_total['sum'].to_numpy()\n",
    "\n",
    "\n",
    "fig, ax = plt.subplots()\n",
    "plt.rcParams['figure.figsize'] = [20, 5]\n",
    "plt.xlabel('Devices')\n",
    "plt.ylabel('Data [kB]')\n",
    "plt.title('Data traffic per Device')\n",
    "plot_x_devices_traffic = np.arange(len(devices_labels))\n",
    "plt.xticks(plot_x_devices_traffic, devices_labels, rotation=60, ha=\"right\")\n",
    "ax.bar(plot_x_devices_traffic, df_device_in_total_num, width=0.4, color='green')\n",
    "ax.bar(plot_x_devices_traffic + 0.4, df_device_out_total_num, width=0.4, color='red')\n",
    "fig.show()\n",
    "\n",
    "# plot packets\n",
    "\n",
    "fig, ax = plt.subplots()\n",
    "plt.rcParams['figure.figsize'] = [20, 5]\n",
    "plt.xlabel('Devices')\n",
    "plt.ylabel('Packets')\n",
    "plt.title('Packets per Device')\n",
    "plot_x_devices_traffic = np.arange(len(devices_labels))\n",
    "plt.xticks(plot_x_devices_traffic, devices_labels, rotation=60, ha=\"right\")\n",
    "ax.bar(plot_x_devices_traffic, df_device_in_packets_total_num, width=0.4, color='green')\n",
    "ax.bar(plot_x_devices_traffic + 0.4, df_device_out_packets_total_num, width=0.4, color='red')\n",
    "fig.show()"
   ]
  },
  {
   "cell_type": "markdown",
   "metadata": {},
   "source": [
    "### Device Activity ###\n",
    "- Device activity per timeframe (plot chart) (1/0 plot)\n",
    "\n",
    "The following plot shows at which timeframes packets from or to the device were captured. A single captured packet in a timeframe is sufficient to identify the device as \"active\". It does not show user activity, but it visualizes when the device was connected to the network and if it was used for data exchange with the web.\n"
   ]
  },
  {
   "cell_type": "code",
   "execution_count": null,
   "metadata": {
    "pycharm": {
     "name": "#%%\n"
    }
   },
   "outputs": [],
   "source": [
    "# plot activity\n",
    "# activity = 1 packet send/received within a timeframe\n",
    "packets_1 = df_device_packets.iloc[::2].to_numpy()\n",
    "packets_2 = df_device_packets.iloc[1::2].to_numpy()\n",
    "\n",
    "combined = np.minimum(np.add(packets_1, packets_2), 1).transpose()\n",
    "# print(df_device_packets.iloc[::2])\n",
    "print(combined.shape)\n",
    "plot_X_activity = np.arange(combined.shape[1])\n",
    "\n",
    "# print(np.minimum(combined[0], (len(combined[0])) * [1] ))\n",
    "\n",
    "# df_device_packets.iloc[1::2]\n",
    "fig, ax = plt.subplots(nrows=combined.shape[0], ncols=1, figsize=[20, 40])\n",
    "# plt.figure(figsize=[20, 30])\n",
    "# plt.rcParams['figure.figsize'] = [20, 40]\n",
    "#plt.xlabel('Time')\n",
    "#plt.ylabel('Activity')\n",
    "#plt.title('Packets per Device')\n",
    "# plt.xticks(x_values_packets, mapping_res)\n",
    "plt.setp(ax, xticks=x_values_packets, xticklabels=mapping_res,\n",
    "        yticks=[0, 1],xlabel='Time', ylabel=\"Activity\", )\n",
    "\n",
    "for index in range(combined.shape[0]):\n",
    "    # plt.subplot(combined.shape[0], 1, index+1)\n",
    "    if index % 2 == 0:\n",
    "        ax[index].plot(x_values_packets, combined[index], label=devices_labels[index], color=\"red\")\n",
    "    else:\n",
    "        ax[index].plot(x_values_packets, combined[index], label=devices_labels[index], color=\"blue\")\n",
    "    ax[index].legend()\n",
    "\n",
    "\n",
    "fig.show()"
   ]
  },
  {
   "cell_type": "markdown",
   "metadata": {},
   "source": [
    "### Night Behaviour and Application Behaviour ###\n",
    "- Top DNS request targets day/night (6 hour intervals)\n",
    "- Analyze night behaviour (0-6 am) (low activity, find destination IP addresses, country, isp, protocols)\n",
    "- Outgoing/Incoming traffic difference\n",
    "- Application Activity (e.g. Google, Twitch, MVG, etc.)\n",
    "\n",
    "We wanted to know how devices behaved at night without user interaction. Therefore, we decided to only use captured data between 0 and 6am for the first section.\n",
    "In the second section, we want to find out more about application behaviour, e.g. when any Google application is active. Therefore, we assign to each larger application a set of ip addresses (e.g. via resolving collected dns requests) and plot the activity of the applications."
   ]
  },
  {
   "cell_type": "code",
   "execution_count": null,
   "metadata": {},
   "outputs": [],
   "source": []
  },
  {
   "cell_type": "code",
   "execution_count": null,
   "metadata": {},
   "outputs": [],
   "source": []
  },
  {
   "cell_type": "markdown",
   "metadata": {},
   "source": [
    "# Version 1 Slow Device Traffic Analysis, Duration approx. 6400 seconds\n",
    "print(devices_mapping)\n",
    "dns_keys = list(df_dns_urls.keys())\n",
    "print('Start Comoute intensive device task...')\n",
    "print('Takes approximately 30 min.')\n",
    "time_dev_start = time.time()\n",
    "for ip, label in devices_mapping.items():\n",
    "    print(ip, label)\n",
    "    df_dev = df.loc[(df['Source'] == ip) | (df['Destination'] == ip)]\n",
    "    df_inc = df_dev.loc[df_dev['Destination'] == ip]\n",
    "\n",
    "    df_out = df_dev.loc[df_dev['Source'] == ip]\n",
    "    df_dns_device = df_out.loc[(df_out['Protocol'] == 'DNS') & df_out['Info'].str.contains('Standard query') & ~df_out['Info'].str.contains('response')]\n",
    "    # process incoming traffic\n",
    "    for inc_frame in df_inc.to_dict('records'):\n",
    "        df_device_packets.loc[inc_frame['index-time']* 2, label] += 1\n",
    "        df_device_traffic.loc[inc_frame['index-time']* 2, label] += inc_frame['Length']\n",
    "    # process dns\n",
    "    for dns_frame in df_dns_device.to_dict('records'):\n",
    "        name = dns_frame['Info'].split(' ')[-1]\n",
    "        # print(name, dns_keys.index(name))\n",
    "        # add to device specific table\n",
    "        df_device_dns.loc[dns_keys.index(name), label] += 1\n",
    "    # process outgoing traffic\n",
    "    for out_frame in df_out.to_dict('records'):\n",
    "        df_device_packets.loc[out_frame['index-time']* 2 + 1, label] += 1\n",
    "        df_device_traffic.loc[out_frame['index-time']* 2 + 1, label] += out_frame['Length']\n",
    "#print(df_dev)\n",
    "print(\"Task completed in \", time.time() - time_dev_start, \" seconds\")"
   ]
  },
  {
   "cell_type": "markdown",
   "metadata": {},
   "source": [
    "Find the mule\n",
    "Suspicious H1 protocol sends large amount of data to cloud\n",
    "MVG thingy\n",
    "Staubsauger"
   ]
  },
  {
   "cell_type": "markdown",
   "metadata": {},
   "source": [
    "End of the notebook"
   ]
  }
 ],
 "metadata": {
  "kernelspec": {
   "display_name": "Python 3 (ipykernel)",
   "language": "python",
   "name": "python3"
  },
  "language_info": {
   "codemirror_mode": {
    "name": "ipython",
    "version": 3
   },
   "file_extension": ".py",
   "mimetype": "text/x-python",
   "name": "python",
   "nbconvert_exporter": "python",
   "pygments_lexer": "ipython3",
   "version": "3.9.7"
  }
 },
 "nbformat": 4,
 "nbformat_minor": 4
}
