{
 "cells": [
  {
   "cell_type": "markdown",
   "metadata": {},
   "source": [
    "### CMB Assigment 2 Program ###"
   ]
  },
  {
   "cell_type": "code",
   "execution_count": 1,
   "metadata": {},
   "outputs": [],
   "source": [
    "# Program, run imports\n",
    "%matplotlib inline\n",
    "import pandas as pd\n",
    "import matplotlib.pyplot as plt\n",
    "from datetime import datetime\n",
    "import numpy as np\n",
    "import seaborn as sns\n",
    "import requests\n",
    "sns.set(style=\"darkgrid\")"
   ]
  },
  {
   "cell_type": "markdown",
   "metadata": {},
   "source": [
    "Create Pandas Dataframe"
   ]
  },
  {
   "cell_type": "code",
   "execution_count": 2,
   "metadata": {
    "pycharm": {
     "name": "#%%\n"
    }
   },
   "outputs": [
    {
     "name": "stdout",
     "output_type": "stream",
     "text": [
      "             No.                        Time           Source  \\\n",
      "0              1  2022-01-16 22:04:03.993585     192.168.0.88   \n",
      "1              2  2022-01-16 22:04:03.997303      192.168.0.5   \n",
      "2              3  2022-01-16 22:04:04.055476  199.232.138.248   \n",
      "3              4  2022-01-16 22:04:04.057104      192.168.0.9   \n",
      "4              5  2022-01-16 22:04:04.070783  199.232.138.248   \n",
      "...          ...                         ...              ...   \n",
      "1117455  1117456  2022-01-17 17:05:50.550259   188.164.238.26   \n",
      "1117456  1117457  2022-01-17 17:05:50.550547   188.164.238.26   \n",
      "1117457  1117458  2022-01-17 17:05:50.595386     192.168.0.22   \n",
      "1117458  1117459  2022-01-17 17:05:50.605007     192.168.0.22   \n",
      "1117459  1117460  2022-01-17 17:05:50.607387   188.164.238.26   \n",
      "\n",
      "             Destination Protocol  Length  \\\n",
      "0            192.168.0.5      SSH     190   \n",
      "1           192.168.0.88      TCP      66   \n",
      "2            192.168.0.9      TCP     730   \n",
      "3        199.232.138.248      TCP      66   \n",
      "4            192.168.0.9      TCP    1842   \n",
      "...                  ...      ...     ...   \n",
      "1117455     192.168.0.22      TCP    1384   \n",
      "1117456     192.168.0.22  TLSv1.2    1222   \n",
      "1117457   188.164.238.26      TCP      54   \n",
      "1117458   188.164.238.26      TCP      54   \n",
      "1117459     192.168.0.22  TLSv1.2     396   \n",
      "\n",
      "                                                      Info  \n",
      "0                       Server: Encrypted packet (len=124)  \n",
      "1        55431  >  22 [ACK] Seq=1 Ack=125 Win=2046 Len=...  \n",
      "2                       [TCP segment of a reassembled PDU]  \n",
      "3        46308  >  443 [ACK] Seq=1 Ack=665 Win=444 Len=...  \n",
      "4                       [TCP segment of a reassembled PDU]  \n",
      "...                                                    ...  \n",
      "1117455  443  >  49454 [PSH, ACK] Seq=1331 Ack=300 Win=...  \n",
      "1117456                          Server Hello, Certificate  \n",
      "1117457  49454  >  443 [ACK] Seq=300 Ack=2661 Win=4414 ...  \n",
      "1117458  49454  >  443 [ACK] Seq=300 Ack=3829 Win=5744 ...  \n",
      "1117459             Server Key Exchange, Server Hello Done  \n",
      "\n",
      "[1117460 rows x 7 columns]\n"
     ]
    }
   ],
   "source": [
    "#df = pd.read_csv(\"data/21-12-23_complete.csv\")\n",
    "# data_folder = \"/Users/Fabian/Desktop/\"\n",
    "data_folder = \"/Users/Fabian/Desktop/\"\n",
    "df = pd.read_csv(data_folder + \"1dayAll.csv\", encoding = \"latin\")\n",
    "print(df)\n",
    "# ['No.', 'Time', 'Source', 'Destination', 'Protocol', 'Length', 'Info', 'dst port']\n"
   ]
  },
  {
   "cell_type": "markdown",
   "metadata": {},
   "source": [
    "Filter local traffic"
   ]
  },
  {
   "cell_type": "code",
   "execution_count": 3,
   "metadata": {},
   "outputs": [],
   "source": [
    "# source and destination should not start with 192.168 to filter local network\n",
    "filtered = df.loc[~df['Source'].str.startswith(\"192.168\", na=False) & df['Destination'].str.startswith(\"192.168\", na=False) |\n",
    "                 df['Source'].str.startswith(\"192.168\", na=False) & ~df['Destination'].str.startswith(\"192.168\", na=False)]\n",
    "# filter multicast, broadcast\n",
    "filtered = filtered.loc[~filtered['Protocol'].str.contains(\"MDNS\")]\n",
    "filtered = filtered.loc[filtered['Destination'].str.split('.').str[0].astype(int) < 224]\n",
    "\n",
    "df = filtered.copy()\n"
   ]
  },
  {
   "cell_type": "code",
   "execution_count": 4,
   "metadata": {
    "pycharm": {
     "name": "#%%\n"
    }
   },
   "outputs": [
    {
     "data": {
      "text/plain": [
       "1642367044"
      ]
     },
     "execution_count": 4,
     "metadata": {},
     "output_type": "execute_result"
    }
   ],
   "source": [
    "# helper functions\n",
    "def utcEntryToTimestamp(entry):\n",
    "    if '.' in entry:\n",
    "        row_entry = entry.split(\".\")[0]\n",
    "    else:\n",
    "        row_entry = entry.split(\",\")[0]\n",
    "    TIME_FORMAT='%Y-%m-%d %H:%M:%S'\n",
    "    ts = int(datetime.strptime(row_entry, TIME_FORMAT).timestamp())\n",
    "    return ts\n",
    "\n",
    "def utcRowToTimestamp(row):\n",
    "    return utcEntryToTimestamp(row.at['Time'])\n",
    "utcRowToTimestamp(df.iloc[0])\n",
    "# print(df.loc[0].at['Time'])"
   ]
  },
  {
   "cell_type": "markdown",
   "metadata": {},
   "source": [
    "### Protocol packet distribution ###"
   ]
  },
  {
   "cell_type": "code",
   "execution_count": 5,
   "metadata": {
    "pycharm": {
     "name": "#%%\n"
    }
   },
   "outputs": [
    {
     "name": "stdout",
     "output_type": "stream",
     "text": [
      "Protocol\n",
      "DHCP             38\n",
      "DNS             698\n",
      "H1                1\n",
      "HTTP            554\n",
      "HTTP/JSON       457\n",
      "HTTP/XML          2\n",
      "ICMP             41\n",
      "NTP             556\n",
      "QUIC           1827\n",
      "SSLv2          7018\n",
      "TCP          548631\n",
      "TLSv1           200\n",
      "TLSv1.2      112483\n",
      "TLSv1.3         851\n",
      "Name: Source, dtype: int64\n"
     ]
    },
    {
     "name": "stderr",
     "output_type": "stream",
     "text": [
      "/var/folders/px/zjht8g6j4bvglsnf70rp41d80000gn/T/ipykernel_18784/1857181538.py:8: UserWarning: Matplotlib is currently using module://matplotlib_inline.backend_inline, which is a non-GUI backend, so cannot show the figure.\n",
      "  fig.show()\n"
     ]
    },
    {
     "data": {
      "image/png": "[encoded data removed]",
      "text/plain": [
       "<Figure size 432x288 with 1 Axes>"
      ]
     },
     "metadata": {},
     "output_type": "display_data"
    }
   ],
   "source": [
    "print(df.groupby('Protocol').Source.count())\n",
    "\n",
    "count_protocol_packets = df.groupby('Protocol').Source.count()\n",
    "\n",
    "fig, ax = plt.subplots()\n",
    "plt.title('Protocol Distribution by Amount of Packets')\n",
    "ax.pie(count_protocol_packets, labels=count_protocol_packets.keys(), autopct='%1.1f%%',)\n",
    "fig.show()"
   ]
  },
  {
   "cell_type": "markdown",
   "metadata": {},
   "source": [
    "### Amount of data traffic per protocol ###"
   ]
  },
  {
   "cell_type": "code",
   "execution_count": 6,
   "metadata": {
    "pycharm": {
     "name": "#%%\n"
    }
   },
   "outputs": [
    {
     "name": "stderr",
     "output_type": "stream",
     "text": [
      "/var/folders/px/zjht8g6j4bvglsnf70rp41d80000gn/T/ipykernel_18784/3895533642.py:6: UserWarning: Matplotlib is currently using module://matplotlib_inline.backend_inline, which is a non-GUI backend, so cannot show the figure.\n",
      "  fig.show()\n"
     ]
    },
    {
     "name": "stdout",
     "output_type": "stream",
     "text": [
      "Protocol\n",
      "DHCP             13300\n",
      "DNS              96797\n",
      "H1                  77\n",
      "HTTP            125474\n",
      "HTTP/JSON       220673\n",
      "HTTP/XML          2538\n",
      "ICMP              5121\n",
      "NTP              50040\n",
      "QUIC            967873\n",
      "SSLv2         12790803\n",
      "TCP          410369042\n",
      "TLSv1           148764\n",
      "TLSv1.2       79278291\n",
      "TLSv1.3         588664\n",
      "Name: Length, dtype: int64\n"
     ]
    },
    {
     "data": {
      "image/png": "[encoded data removed]",
      "text/plain": [
       "<Figure size 432x288 with 1 Axes>"
      ]
     },
     "metadata": {},
     "output_type": "display_data"
    }
   ],
   "source": [
    "count_protocol_traffic = df.groupby('Protocol').Length.sum()\n",
    "print(count_protocol_traffic)\n",
    "fig, ax = plt.subplots()\n",
    "plt.title('Protocol Distribution by Data Traffic')\n",
    "ax.pie(count_protocol_traffic, labels=count_protocol_traffic.keys(), autopct='%1.1f%%',)\n",
    "fig.show()"
   ]
  },
  {
   "cell_type": "markdown",
   "metadata": {},
   "source": [
    "### Average Data length per Protocol Type ###"
   ]
  },
  {
   "cell_type": "code",
   "execution_count": 7,
   "metadata": {
    "pycharm": {
     "name": "#%%\n"
    }
   },
   "outputs": [
    {
     "name": "stdout",
     "output_type": "stream",
     "text": [
      "Protocol\n",
      "DHCP          350.000000\n",
      "DNS           138.677650\n",
      "H1             77.000000\n",
      "HTTP          226.487365\n",
      "HTTP/JSON     482.873085\n",
      "HTTP/XML     1269.000000\n",
      "ICMP          124.902439\n",
      "NTP            90.000000\n",
      "QUIC          529.760810\n",
      "SSLv2        1822.570960\n",
      "TCP           747.987339\n",
      "TLSv1         743.820000\n",
      "TLSv1.2       704.802423\n",
      "TLSv1.3       691.732080\n",
      "Name: Length, dtype: float64\n"
     ]
    },
    {
     "name": "stderr",
     "output_type": "stream",
     "text": [
      "/var/folders/px/zjht8g6j4bvglsnf70rp41d80000gn/T/ipykernel_18784/212732153.py:11: UserWarning: Matplotlib is currently using module://matplotlib_inline.backend_inline, which is a non-GUI backend, so cannot show the figure.\n",
      "  fig.show()\n"
     ]
    },
    {
     "data": {
      "image/png": "[encoded data removed]",
      "text/plain": [
       "<Figure size 432x288 with 1 Axes>"
      ]
     },
     "metadata": {},
     "output_type": "display_data"
    }
   ],
   "source": [
    "average_protocol_packet_length = df.groupby('Protocol').Length.sum() / df.groupby('Protocol').Length.count()\n",
    "print(average_protocol_packet_length)\n",
    "fig, ax = plt.subplots()\n",
    "ax.tick_params(axis='x', which='major', labelsize=12)\n",
    "ax.tick_params(axis='x', which='minor', labelsize=12)\n",
    "plt.xlabel('Protocol')\n",
    "plt.ylabel('Data [Byte]')\n",
    "plt.title('Average Data Length per Protocol Type')\n",
    "ax.bar(average_protocol_packet_length.keys(), average_protocol_packet_length, align='center',)\n",
    "plt.xticks(rotation=60, ha=\"right\")\n",
    "fig.show()"
   ]
  },
  {
   "cell_type": "markdown",
   "metadata": {},
   "source": [
    "### Source addresses ###"
   ]
  },
  {
   "cell_type": "code",
   "execution_count": 8,
   "metadata": {
    "pycharm": {
     "name": "#%%\n"
    }
   },
   "outputs": [
    {
     "name": "stdout",
     "output_type": "stream",
     "text": [
      "Source\n",
      "104.121.176.87      25\n",
      "104.122.85.142      18\n",
      "104.18.30.112        8\n",
      "104.18.30.82       101\n",
      "104.199.65.124    3814\n",
      "                  ... \n",
      "92.123.229.80        7\n",
      "94.130.184.193       1\n",
      "94.16.116.137        1\n",
      "99.84.82.10         15\n",
      "99.84.82.74         31\n",
      "Name: Time, Length: 300, dtype: int64\n",
      "Destination\n",
      "35.175.22.69            1\n",
      "78.31.67.99             1\n",
      "85.215.93.134           1\n",
      "5.1.73.2                1\n",
      "51.75.67.47             1\n",
      "                    ...  \n",
      "192.168.0.121       19319\n",
      "199.232.138.248     88263\n",
      "192.168.0.22       149684\n",
      "188.164.238.26     154839\n",
      "192.168.0.9        205301\n",
      "Name: Time, Length: 302, dtype: int64\n"
     ]
    }
   ],
   "source": [
    "print(df.groupby('Source').Time.count())\n",
    "print(df.groupby('Destination').Time.count().sort_values())\n",
    "\n",
    "unique_dests = df['Destination'].unique()\n",
    "\n",
    "# write ip address destinations to file\n",
    "file1 = open(\"Testfile.txt\",\"w\")\n",
    "for row in unique_dests:\n",
    "    file1.write(row + \"\\n\")\n",
    "file1.close()"
   ]
  },
  {
   "cell_type": "code",
   "execution_count": 9,
   "metadata": {
    "pycharm": {
     "name": "#%%\n"
    }
   },
   "outputs": [
    {
     "name": "stdout",
     "output_type": "stream",
     "text": [
      "Source\n",
      "104.121.176.87      25\n",
      "104.122.85.142      18\n",
      "104.18.30.112        8\n",
      "104.18.30.82       101\n",
      "104.199.65.124    3814\n",
      "                  ... \n",
      "92.123.229.80        7\n",
      "94.130.184.193       1\n",
      "94.16.116.137        1\n",
      "99.84.82.10         15\n",
      "99.84.82.74         31\n",
      "Name: Time, Length: 300, dtype: int64\n",
      "Destination\n",
      "35.175.22.69            1\n",
      "78.31.67.99             1\n",
      "85.215.93.134           1\n",
      "5.1.73.2                1\n",
      "51.75.67.47             1\n",
      "                    ...  \n",
      "192.168.0.121       19319\n",
      "199.232.138.248     88263\n",
      "192.168.0.22       149684\n",
      "188.164.238.26     154839\n",
      "192.168.0.9        205301\n",
      "Name: Time, Length: 302, dtype: int64\n"
     ]
    }
   ],
   "source": [
    "print(df.groupby('Source').Time.count())\n",
    "print(df.groupby('Destination').Time.count().sort_values())"
   ]
  },
  {
   "cell_type": "markdown",
   "metadata": {},
   "source": [
    "### DNS requests ###"
   ]
  },
  {
   "cell_type": "code",
   "execution_count": 10,
   "metadata": {
    "pycharm": {
     "name": "#%%\n"
    }
   },
   "outputs": [
    {
     "name": "stdout",
     "output_type": "stream",
     "text": [
      "firetvcaptiveportal.com         79\n",
      "device-metrics-us.amazon.com    16\n",
      "msh.amazon.co.uk                16\n",
      "arcus-uswest.amazon.com         14\n",
      "api.amazon.com                  14\n",
      "                                ..\n",
      "2.android.pool.ntp.org           2\n",
      "238.36.251.142.in-addr.arpa      1\n",
      "174.36.251.142.in-addr.arpa      1\n",
      "19.30.232.85.in-addr.arpa        1\n",
      "8.0.168.192.in-addr.arpa         1\n",
      "Name: Info, Length: 63, dtype: int64\n"
     ]
    }
   ],
   "source": [
    "df_dns = df[df['Protocol'].isin(['DNS'])]\n",
    "df_dns.head()\n",
    "df_dns_requests_1 = df_dns[df_dns['Info'].str.contains('Standard query')]\n",
    "# does not contain response\n",
    "df_dns_requests_2 = df_dns_requests_1[~df_dns_requests_1['Info'].str.contains('response')]\n",
    "df_dns_resources = df_dns_requests_2['Info'].apply(lambda x: x.split(' ')[-1]).value_counts()\n",
    "print(df_dns_resources)\n",
    "# print(df_dns_requests)\n",
    "# print(df_dns['Info'])\n"
   ]
  },
  {
   "cell_type": "markdown",
   "metadata": {},
   "source": [
    "### IP Wordlwide location"
   ]
  },
  {
   "cell_type": "code",
   "execution_count": 11,
   "metadata": {},
   "outputs": [
    {
     "name": "stdout",
     "output_type": "stream",
     "text": [
      "{'status': 'success', 'description': 'Data successfully received.', 'data': {'geo': {'host': '199.232.138.248', 'ip': '199.232.138.248', 'rdns': '199.232.138.248', 'asn': 54113, 'isp': 'FASTLY', 'country_name': 'Germany', 'country_code': 'DE', 'region_name': 'Hesse', 'region_code': 'HE', 'city': 'Frankfurt am Main', 'postal_code': '60313', 'continent_name': 'Europe', 'continent_code': 'EU', 'latitude': 50.1188, 'longitude': 8.6843, 'metro_code': None, 'timezone': 'Europe/Berlin', 'datetime': '2022-01-17 18:16:22'}}}\n",
      "{'status': 'success', 'description': 'Data successfully received.', 'data': {'geo': {'host': '188.164.238.26', 'ip': '188.164.238.26', 'rdns': '188.164.238.26', 'asn': 198145, 'isp': 'SWM Services GmbH', 'country_name': 'Germany', 'country_code': 'DE', 'region_name': 'Bavaria', 'region_code': 'BY', 'city': 'Munich', 'postal_code': '80331', 'continent_name': 'Europe', 'continent_code': 'EU', 'latitude': 48.1336, 'longitude': 11.5658, 'metro_code': None, 'timezone': 'Europe/Berlin', 'datetime': '2022-01-17 18:16:22'}}}\n",
      "{'status': 'success', 'description': 'Data successfully received.', 'data': {'geo': {'host': '104.199.65.124', 'ip': '104.199.65.124', 'rdns': '124.65.199.104.bc.googleusercontent.com', 'asn': 15169, 'isp': 'GOOGLE', 'country_name': 'United States', 'country_code': 'US', 'region_name': None, 'region_code': None, 'city': None, 'postal_code': None, 'continent_name': 'North America', 'continent_code': 'NA', 'latitude': 37.751, 'longitude': -97.822, 'metro_code': None, 'timezone': 'America/Chicago', 'datetime': '2022-01-17 11:41:15'}}}\n",
      "{'status': 'success', 'description': 'Data successfully received.', 'data': {'geo': {'host': '65.21.190.104', 'ip': '65.21.190.104', 'rdns': 'static.104.190.21.65.clients.your-server.de', 'asn': 24940, 'isp': 'Hetzner Online GmbH', 'country_name': 'Finland', 'country_code': 'FI', 'region_name': 'Uusimaa', 'region_code': '18', 'city': 'Helsinki', 'postal_code': '00100', 'continent_name': 'Europe', 'continent_code': 'EU', 'latitude': 60.1719, 'longitude': 24.9347, 'metro_code': None, 'timezone': 'Europe/Helsinki', 'datetime': '2022-01-17 21:20:13'}}}\n",
      "{'status': 'success', 'description': 'Data successfully received.', 'data': {'geo': {'host': '129.70.132.35', 'ip': '129.70.132.35', 'rdns': 'stratum2-2.NTP.TechFak.NET', 'asn': 680, 'isp': 'Verein zur Foerderung eines Deutschen Forschungsnetzes e.V.', 'country_name': 'Germany', 'country_code': 'DE', 'region_name': None, 'region_code': None, 'city': None, 'postal_code': None, 'continent_name': 'Europe', 'continent_code': 'EU', 'latitude': 51.2993, 'longitude': 9.491, 'metro_code': None, 'timezone': 'Europe/Berlin', 'datetime': '2022-01-17 20:48:08'}}}\n",
      "{'status': 'success', 'description': 'Data successfully received.', 'data': {'geo': {'host': '54.74.87.79', 'ip': '54.74.87.79', 'rdns': 'ec2-54-74-87-79.eu-west-1.compute.amazonaws.com', 'asn': 16509, 'isp': 'AMAZON-02', 'country_name': 'Ireland', 'country_code': 'IE', 'region_name': 'Leinster', 'region_code': 'L', 'city': 'Dublin', 'postal_code': 'D02', 'continent_name': 'Europe', 'continent_code': 'EU', 'latitude': 53.3382, 'longitude': -6.2591, 'metro_code': None, 'timezone': 'Europe/Dublin', 'datetime': '2022-01-17 19:48:08'}}}\n",
      "{'status': 'success', 'description': 'Data successfully received.', 'data': {'geo': {'host': '85.214.67.97', 'ip': '85.214.67.97', 'rdns': 'databases.madavi.de', 'asn': 6724, 'isp': 'Strato AG', 'country_name': 'Germany', 'country_code': 'DE', 'region_name': None, 'region_code': None, 'city': None, 'postal_code': None, 'continent_name': 'Europe', 'continent_code': 'EU', 'latitude': 51.2993, 'longitude': 9.491, 'metro_code': None, 'timezone': 'Europe/Berlin', 'datetime': '2022-01-17 20:48:08'}}}\n"
     ]
    }
   ],
   "source": [
    "df_destinations =  df['Destination'].unique()\n",
    "\n",
    "for dest in df_destinations[:10]: # 10 entries limit for now\n",
    "    if dest.startswith(\"192.168\"):\n",
    "            continue\n",
    "    headers = { 'User-Agent': \"keycdn-tools:https://www.example.com\" }\n",
    "    url = \"https://tools.keycdn.com/geo.json?host={}\".format(dest)\n",
    "    r = requests.get(url, headers=headers)\n",
    "    print(r.json() )  \n"
   ]
  },
  {
   "cell_type": "markdown",
   "metadata": {},
   "source": [
    "### Data traffic over time ###"
   ]
  },
  {
   "cell_type": "code",
   "execution_count": 12,
   "metadata": {
    "pycharm": {
     "name": "#%%\n"
    }
   },
   "outputs": [
    {
     "name": "stdout",
     "output_type": "stream",
     "text": [
      "from  1642367044  to  1642435550\n",
      "77\n",
      "[26831. 35288. 37334.  4807.  4683.  4636.  4659.  4572.  4542.  4612.\n",
      "  4622.  4602.  4663.  4588.  4635.  4658.  4664.  7484.  4668.  4580.\n",
      "  4641.  4642.  4662.  4632.  4647.  4681.  4676.  4687.  4651.  4682.\n",
      "  4667.  4848.  4784.  4805.  4649.  4651.  4678.  4662.  4690.  4715.\n",
      "  4658.  6593.  4663.  4635.  4710.  5025.  4728.  4919.  5320.  4697.\n",
      "  4678.  4687.  4813.  4862.  4676.  4653.  4537.  5238.  4608.  4787.\n",
      "  4706.  4689.  4674.  5013. 40214. 42578. 42026. 41794. 41614. 40321.\n",
      "  6205.  4869.  5308.  5137.  5041.  4836.  1967.]\n",
      "[27749. 36152. 38844.  2120.  2103.  2082.  2096.  2054.  2046.  2090.\n",
      "  2081.  2075.  2080.  2067.  2081.  2081.  2087.  4700.  2094.  2075.\n",
      "  2100.  2100.  2104.  2107.  2118.  2129.  2129.  2138.  2127.  2135.\n",
      "  2134.  2196.  2183.  2175.  2121.  2127.  2130.  2124.  2136.  2133.\n",
      "  2120.  3363.  2117.  2123.  2131.  2283.  2128.  2222.  2548.  2121.\n",
      "  2130.  2131.  2184.  2244.  2126.  2115.  2102.  2577.  2114.  2154.\n",
      "  2139.  2133.  2123.  2297. 35412. 44446. 43784. 43394. 43053. 41689.\n",
      "  3632.  2153.  2453.  2240.  2229.  2149.   856.]\n"
     ]
    },
    {
     "name": "stderr",
     "output_type": "stream",
     "text": [
      "/var/folders/px/zjht8g6j4bvglsnf70rp41d80000gn/T/ipykernel_18784/2888101978.py:44: UserWarning: Matplotlib is currently using module://matplotlib_inline.backend_inline, which is a non-GUI backend, so cannot show the figure.\n",
      "  fig.show()\n",
      "/var/folders/px/zjht8g6j4bvglsnf70rp41d80000gn/T/ipykernel_18784/2888101978.py:52: UserWarning: Matplotlib is currently using module://matplotlib_inline.backend_inline, which is a non-GUI backend, so cannot show the figure.\n",
      "  fig.show()\n"
     ]
    },
    {
     "data": {
      "image/png": "[encoded data removed]",
      "text/plain": [
       "<Figure size 432x288 with 1 Axes>"
      ]
     },
     "metadata": {},
     "output_type": "display_data"
    },
    {
     "data": {
      "image/png": "[encoded data removed]",
      "text/plain": [
       "<Figure size 432x288 with 1 Axes>"
      ]
     },
     "metadata": {},
     "output_type": "display_data"
    }
   ],
   "source": [
    "def timeMapping(x):\n",
    "    # include time difference UTC+1\n",
    "    time = datetime.utcfromtimestamp(x*min_15_duration + 3600)\n",
    "    if time.minute == 0 and time.hour % 3 == 0:\n",
    "        return time.strftime(\"%H:%M\")\n",
    "    else:\n",
    "        return \"\"\n",
    "\n",
    "# find first and last timestamp, then create data structure\n",
    "min_15_duration = 60 * 15\n",
    "df_time_mod = df.copy()\n",
    "df_time_mod['Time'] = df_time_mod['Time'].apply(lambda x: utcEntryToTimestamp(x)) # map to 15 min window\n",
    "df_time_mod.head()\n",
    "first_entry = df_time_mod.iloc[0].at['Time'] // min_15_duration\n",
    "last_entry = df_time_mod.iloc[-1].at['Time'] // min_15_duration\n",
    "\n",
    "print('from ', df_time_mod.iloc[0].at['Time'], \" to \", df_time_mod.iloc[-1].at['Time'])\n",
    "\n",
    "count_packets = np.zeros(last_entry - first_entry + 1)\n",
    "length_packets = np.zeros(last_entry - first_entry + 1)\n",
    "\n",
    "x_values_packets = list(range(first_entry, last_entry + 1))\n",
    "print(len(x_values_packets))\n",
    "\n",
    "mapping_res = list(map(timeMapping, x_values_packets))\n",
    "\n",
    "# print(mapping_res)\n",
    "\n",
    "for index, row in df_time_mod.iterrows():\n",
    "    ts = row.at['Time'] // min_15_duration\n",
    "    count_packets[ts - first_entry] += 1\n",
    "    length_packets[ts - first_entry] += row.at['Length']\n",
    "\n",
    "length_packets = length_packets // 1000\n",
    "print(count_packets)\n",
    "print(length_packets)\n",
    "\n",
    "fig, ax = plt.subplots()\n",
    "plt.xlabel('Time')\n",
    "plt.ylabel('Packets')\n",
    "plt.title('Packets per timeframe (15 min interval)')\n",
    "plt.xticks(x_values_packets, mapping_res)\n",
    "ax.bar(x_values_packets, count_packets, color='black')\n",
    "fig.show()\n",
    "\n",
    "fig, ax = plt.subplots()\n",
    "plt.xlabel('Time')\n",
    "plt.ylabel('Data [kB]')\n",
    "plt.title('Data traffic per timeframe (15 min interval)')\n",
    "plt.xticks(x_values_packets, mapping_res)\n",
    "ax.bar(x_values_packets, length_packets, color='black')\n",
    "fig.show()"
   ]
  },
  {
   "cell_type": "code",
   "execution_count": null,
   "metadata": {
    "pycharm": {
     "name": "#%%\n"
    }
   },
   "outputs": [],
   "source": []
  },
  {
   "cell_type": "code",
   "execution_count": null,
   "metadata": {},
   "outputs": [],
   "source": []
  },
  {
   "cell_type": "code",
   "execution_count": null,
   "metadata": {},
   "outputs": [],
   "source": []
  },
  {
   "cell_type": "code",
   "execution_count": null,
   "metadata": {},
   "outputs": [],
   "source": []
  },
  {
   "cell_type": "code",
   "execution_count": null,
   "metadata": {},
   "outputs": [],
   "source": []
  },
  {
   "cell_type": "code",
   "execution_count": null,
   "metadata": {},
   "outputs": [],
   "source": []
  },
  {
   "cell_type": "code",
   "execution_count": null,
   "metadata": {},
   "outputs": [],
   "source": []
  }
 ],
 "metadata": {
  "kernelspec": {
   "display_name": "Python 3 (ipykernel)",
   "language": "python",
   "name": "python3"
  },
  "language_info": {
   "codemirror_mode": {
    "name": "ipython",
    "version": 3
   },
   "file_extension": ".py",
   "mimetype": "text/x-python",
   "name": "python",
   "nbconvert_exporter": "python",
   "pygments_lexer": "ipython3",
   "version": "3.10.1"
  }
 },
 "nbformat": 4,
 "nbformat_minor": 1
}
